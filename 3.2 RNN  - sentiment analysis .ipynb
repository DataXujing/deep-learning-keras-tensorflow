{
 "cells": [
  {
   "cell_type": "markdown",
   "metadata": {},
   "source": [
    "Recurrent Neural networks\n",
    "====="
   ]
  },
  {
   "cell_type": "markdown",
   "metadata": {},
   "source": [
    "### RNN  "
   ]
  },
  {
   "cell_type": "markdown",
   "metadata": {
    "collapsed": false
   },
   "source": [
    "<img src =\"imgs/rnn.png\" width=\"20%\">"
   ]
  },
  {
   "cell_type": "markdown",
   "metadata": {},
   "source": [
    "A recurrent neural network (RNN) is a class of artificial neural network where connections between units form a directed cycle. This creates an internal state of the network which allows it to exhibit dynamic temporal behavior."
   ]
  },
  {
   "cell_type": "code",
   "execution_count": 1,
   "metadata": {
    "collapsed": false
   },
   "outputs": [
    {
     "name": "stderr",
     "output_type": "stream",
     "text": [
      "Using TensorFlow backend.\n"
     ]
    }
   ],
   "source": [
    "import keras\n",
    "output_dim = 100"
   ]
  },
  {
   "cell_type": "code",
   "execution_count": 2,
   "metadata": {
    "collapsed": false
   },
   "outputs": [
    {
     "name": "stderr",
     "output_type": "stream",
     "text": [
      "/home/ubuntu/anaconda2/envs/deep-learning/lib/python3.5/site-packages/ipykernel/__main__.py:4: UserWarning: Update your `SimpleRNN` call to the Keras 2 API: `SimpleRNN(100, kernel_initializer=\"glorot_uniform\", recurrent_initializer=\"orthogonal\", dropout=0.0, recurrent_regularizer=None, activation=\"tanh\", recurrent_dropout=0.0, bias_regularizer=None, kernel_regularizer=None)`\n"
     ]
    },
    {
     "data": {
      "text/plain": [
       "<keras.layers.recurrent.SimpleRNN at 0x7f0a5d104c88>"
      ]
     },
     "execution_count": 2,
     "metadata": {},
     "output_type": "execute_result"
    }
   ],
   "source": [
    "keras.layers.recurrent.SimpleRNN(output_dim, \n",
    "                                 init='glorot_uniform', inner_init='orthogonal', activation='tanh', \n",
    "                                 W_regularizer=None, U_regularizer=None, b_regularizer=None, \n",
    "                                 dropout_W=0.0, dropout_U=0.0)"
   ]
  },
  {
   "cell_type": "markdown",
   "metadata": {},
   "source": [
    "#### Backprop Through time  "
   ]
  },
  {
   "cell_type": "markdown",
   "metadata": {},
   "source": [
    "Contrary to feed-forward neural networks, the RNN is characterized by the ability of encoding longer past information, thus very suitable for sequential models. The BPTT extends the ordinary BP algorithm to suit the recurrent neural\n",
    "architecture."
   ]
  },
  {
   "cell_type": "markdown",
   "metadata": {
    "collapsed": false,
    "scrolled": true
   },
   "source": [
    "<img src =\"imgs/rnn2.png\" width=\"45%\">"
   ]
  },
  {
   "cell_type": "code",
   "execution_count": 3,
   "metadata": {
    "collapsed": true
   },
   "outputs": [],
   "source": [
    "%matplotlib inline"
   ]
  },
  {
   "cell_type": "code",
   "execution_count": 4,
   "metadata": {
    "collapsed": false
   },
   "outputs": [],
   "source": [
    "import numpy as np\n",
    "import pandas as pd\n",
    "import theano\n",
    "import theano.tensor as T\n",
    "import keras \n",
    "from keras.models import Sequential\n",
    "from keras.layers import Dense, Activation\n",
    "from keras.preprocessing import image\n",
    "from __future__ import print_function\n",
    "import numpy as np\n",
    "import matplotlib.pyplot as plt\n",
    "\n",
    "from keras.datasets import imdb\n",
    "from keras.datasets import mnist\n",
    "from keras.models import Sequential\n",
    "from keras.layers import Dense, Dropout, Activation, Flatten\n",
    "from keras.layers import Convolution2D, MaxPooling2D\n",
    "from keras.utils import np_utils\n",
    "from keras.preprocessing import sequence\n",
    "from keras.layers.embeddings import Embedding\n",
    "from keras.layers.recurrent import LSTM, GRU, SimpleRNN\n",
    "from sklearn.preprocessing import LabelEncoder\n",
    "from sklearn.preprocessing import StandardScaler\n",
    "from sklearn.cross_validation import train_test_split\n",
    "from keras.layers.core import Activation, RepeatVector\n",
    "from keras.callbacks import EarlyStopping, ModelCheckpoint\n",
    "\n",
    "# import tensorflow as tf\n",
    "\n",
    "# tf.python.control_flow_ops = tf"
   ]
  },
  {
   "cell_type": "markdown",
   "metadata": {},
   "source": [
    "#### IMDB sentiment classification task"
   ]
  },
  {
   "cell_type": "markdown",
   "metadata": {},
   "source": [
    "This is a dataset for binary sentiment classification containing substantially more data than previous benchmark datasets. \n",
    "\n",
    "IMDB provided a set of 25,000 highly polar movie reviews for training, and 25,000 for testing. \n",
    "\n",
    "There is additional unlabeled data for use as well. Raw text and already processed bag of words formats are provided. \n",
    "\n",
    "http://ai.stanford.edu/~amaas/data/sentiment/"
   ]
  },
  {
   "cell_type": "markdown",
   "metadata": {},
   "source": [
    "#### Data Preparation - IMDB"
   ]
  },
  {
   "cell_type": "code",
   "execution_count": 27,
   "metadata": {
    "collapsed": false
   },
   "outputs": [
    {
     "name": "stdout",
     "output_type": "stream",
     "text": [
      "Loading data...\n"
     ]
    },
    {
     "name": "stderr",
     "output_type": "stream",
     "text": [
      "/home/ubuntu/anaconda2/envs/deep-learning/lib/python3.5/site-packages/keras/datasets/imdb.py:44: UserWarning: The `nb_words` argument in `load_data` has been renamed `num_words`.\n",
      "  warnings.warn('The `nb_words` argument in `load_data` '\n"
     ]
    },
    {
     "name": "stdout",
     "output_type": "stream",
     "text": [
      "25000 train sequences\n",
      "25000 test sequences\n",
      "Example:\n",
      "[ list([1, 14, 22, 16, 43, 530, 973, 1622, 1385, 65, 458, 4468, 66, 3941, 4, 173, 36, 256, 5, 25, 100, 43, 838, 112, 50, 670, 2, 9, 35, 480, 284, 5, 150, 4, 172, 112, 167, 2, 336, 385, 39, 4, 172, 4536, 1111, 17, 546, 38, 13, 447, 4, 192, 50, 16, 6, 147, 2025, 19, 14, 22, 4, 1920, 4613, 469, 4, 22, 71, 87, 12, 16, 43, 530, 38, 76, 15, 13, 1247, 4, 22, 17, 515, 17, 12, 16, 626, 18, 19193, 5, 62, 386, 12, 8, 316, 8, 106, 5, 4, 2223, 5244, 16, 480, 66, 3785, 33, 4, 130, 12, 16, 38, 619, 5, 25, 124, 51, 36, 135, 48, 25, 1415, 33, 6, 22, 12, 215, 28, 77, 52, 5, 14, 407, 16, 82, 10311, 8, 4, 107, 117, 5952, 15, 256, 4, 2, 7, 3766, 5, 723, 36, 71, 43, 530, 476, 26, 400, 317, 46, 7, 4, 12118, 1029, 13, 104, 88, 4, 381, 15, 297, 98, 32, 2071, 56, 26, 141, 6, 194, 7486, 18, 4, 226, 22, 21, 134, 476, 26, 480, 5, 144, 30, 5535, 18, 51, 36, 28, 224, 92, 25, 104, 4, 226, 65, 16, 38, 1334, 88, 12, 16, 283, 5, 16, 4472, 113, 103, 32, 15, 16, 5345, 19, 178, 32])]\n",
      "Pad sequences (samples x time)\n",
      "X_train shape: (25000, 100)\n",
      "X_test shape: (25000, 100)\n"
     ]
    }
   ],
   "source": [
    "max_features = 20000\n",
    "maxlen = 100  # cut texts after this number of words (among top max_features most common words)\n",
    "batch_size = 32\n",
    "\n",
    "print(\"Loading data...\")\n",
    "# (X_train, y_train), (X_test, y_test) = imdb.load_data(nb_words=max_features, test_split=0.2)\n",
    "(X_train, y_train), (X_test, y_test) = imdb.load_data(nb_words=max_features)\n",
    "\n",
    "print(len(X_train), 'train sequences')\n",
    "print(len(X_test), 'test sequences')\n",
    "\n",
    "print('Example:')\n",
    "print(X_train[:1])\n",
    "\n",
    "print(\"Pad sequences (samples x time)\")\n",
    "X_train = sequence.pad_sequences(X_train, maxlen=maxlen)\n",
    "X_test = sequence.pad_sequences(X_test, maxlen=maxlen)\n",
    "print('X_train shape:', X_train.shape)\n",
    "print('X_test shape:', X_test.shape)\n",
    "\n",
    "max_epoch = 10"
   ]
  },
  {
   "cell_type": "code",
   "execution_count": 28,
   "metadata": {
    "collapsed": false
   },
   "outputs": [
    {
     "data": {
      "text/plain": [
       "array([    0,     0,     0,     0,     0,     0,     0,     0,     0,\n",
       "           0,     0,     0,     0,     0,     0,     0,     0,     0,\n",
       "           0,     0,     0,     0,     0,     0,     0,     0,     0,\n",
       "           0,     0,     0,     0,     0,     1,   591,   202,    14,\n",
       "          31,     6,   717,    10,    10, 18142, 10698,     5,     4,\n",
       "         360,     7,     4,   177,  5760,   394,   354,     4,   123,\n",
       "           9,  1035,  1035,  1035,    10,    10,    13,    92,   124,\n",
       "          89,   488,  7944,   100,    28,  1668,    14,    31,    23,\n",
       "          27,  7479,    29,   220,   468,     8,   124,    14,   286,\n",
       "         170,     8,   157,    46,     5,    27,   239,    16,   179,\n",
       "       15387,    38,    32,    25,  7944,   451,   202,    14,     6,   717], dtype=int32)"
      ]
     },
     "execution_count": 28,
     "metadata": {},
     "output_type": "execute_result"
    }
   ],
   "source": [
    "X_test[0]"
   ]
  },
  {
   "cell_type": "code",
   "execution_count": 29,
   "metadata": {
    "collapsed": false
   },
   "outputs": [
    {
     "data": {
      "text/plain": [
       "(25000, 100)"
      ]
     },
     "execution_count": 29,
     "metadata": {},
     "output_type": "execute_result"
    }
   ],
   "source": [
    "X_train.shape"
   ]
  },
  {
   "cell_type": "markdown",
   "metadata": {},
   "source": [
    "#### Model building "
   ]
  },
  {
   "cell_type": "code",
   "execution_count": 30,
   "metadata": {
    "collapsed": false
   },
   "outputs": [
    {
     "name": "stdout",
     "output_type": "stream",
     "text": [
      "Build model...\n",
      "Train...\n"
     ]
    },
    {
     "name": "stderr",
     "output_type": "stream",
     "text": [
      "/home/ubuntu/anaconda2/envs/deep-learning/lib/python3.5/site-packages/keras/models.py:939: UserWarning: The `nb_epoch` argument in `fit` has been renamed `epochs`.\n",
      "  warnings.warn('The `nb_epoch` argument in `fit` '\n"
     ]
    },
    {
     "name": "stdout",
     "output_type": "stream",
     "text": [
      "Train on 25000 samples, validate on 25000 samples\n",
      "Epoch 1/1\n",
      "25000/25000 [==============================] - 69s 3ms/step - loss: 0.5746 - acc: 0.6856 - val_loss: 0.5180 - val_acc: 0.7492\n",
      "25000/25000 [==============================] - 15s 594us/step\n",
      "\n",
      "Test accuracy: 0.518018109779\n",
      "Test loss: 0.74916\n"
     ]
    }
   ],
   "source": [
    "print('Build model...')\n",
    "model = Sequential()\n",
    "model.add(Embedding(max_features, 128, input_length=maxlen))\n",
    "model.add(SimpleRNN(128))  \n",
    "model.add(Dropout(0.5))\n",
    "model.add(Dense(1))\n",
    "model.add(Activation('sigmoid'))\n",
    "\n",
    "# try using different optimizers and different optimizer configs\n",
    "model.compile(loss='binary_crossentropy', optimizer='adam',metrics=[\"accuracy\"])\n",
    "\n",
    "print(\"Train...\")\n",
    "model.fit(X_train, y_train, batch_size=batch_size, nb_epoch=1, validation_data=(X_test, y_test))\n",
    "\n",
    "acc , loss = model.evaluate(X_test, y_test, batch_size=batch_size)\n",
    "print()\n",
    "print('Test accuracy:', acc)\n",
    "print('Test loss:', loss)"
   ]
  },
  {
   "cell_type": "markdown",
   "metadata": {},
   "source": [
    "### LSTM  "
   ]
  },
  {
   "cell_type": "markdown",
   "metadata": {},
   "source": [
    "A LSTM network is an artificial neural network that contains LSTM blocks instead of, or in addition to, regular network units. A LSTM block may be described as a \"smart\" network unit that can remember a value for an arbitrary length of time. \n",
    "\n",
    "Unlike traditional RNNs, an Long short-term memory network is well-suited to learn from experience to classify, process and predict time series when there are very long time lags of unknown size between important events."
   ]
  },
  {
   "cell_type": "markdown",
   "metadata": {
    "collapsed": false,
    "scrolled": true
   },
   "source": [
    "<img src =\"imgs/gru.png\" width=\"60%\">"
   ]
  },
  {
   "cell_type": "code",
   "execution_count": 8,
   "metadata": {
    "collapsed": false
   },
   "outputs": [
    {
     "name": "stderr",
     "output_type": "stream",
     "text": [
      "/home/ubuntu/anaconda2/envs/deep-learning/lib/python3.5/site-packages/ipykernel/__main__.py:5: UserWarning: Update your `LSTM` call to the Keras 2 API: `LSTM(100, recurrent_dropout=0.0, kernel_regularizer=None, unit_forget_bias=True, activation=\"tanh\", recurrent_initializer=\"orthogonal\", kernel_initializer=\"glorot_uniform\", dropout=0.0, bias_regularizer=None, recurrent_activation=\"hard_sigmoid\", recurrent_regularizer=None)`\n"
     ]
    },
    {
     "data": {
      "text/plain": [
       "<keras.layers.recurrent.LSTM at 0x7f0869cb7358>"
      ]
     },
     "execution_count": 8,
     "metadata": {},
     "output_type": "execute_result"
    }
   ],
   "source": [
    "keras.layers.recurrent.LSTM(output_dim, init='glorot_uniform', inner_init='orthogonal', \n",
    "                            forget_bias_init='one', activation='tanh', \n",
    "                            inner_activation='hard_sigmoid', \n",
    "                            W_regularizer=None, U_regularizer=None, b_regularizer=None, \n",
    "                            dropout_W=0.0, dropout_U=0.0)"
   ]
  },
  {
   "cell_type": "markdown",
   "metadata": {},
   "source": [
    "### GRU  "
   ]
  },
  {
   "cell_type": "markdown",
   "metadata": {},
   "source": [
    "Gated recurrent units are a gating mechanism in recurrent neural networks. \n",
    "\n",
    "Much similar to the LSTMs, they have fewer parameters than LSTM, as they lack an output gate."
   ]
  },
  {
   "cell_type": "code",
   "execution_count": 9,
   "metadata": {
    "collapsed": false
   },
   "outputs": [
    {
     "name": "stderr",
     "output_type": "stream",
     "text": [
      "/home/ubuntu/anaconda2/envs/deep-learning/lib/python3.5/site-packages/ipykernel/__main__.py:4: UserWarning: Update your `GRU` call to the Keras 2 API: `GRU(100, recurrent_dropout=0.0, kernel_regularizer=None, recurrent_initializer=\"orthogonal\", kernel_initializer=\"glorot_uniform\", dropout=0.0, activation=\"tanh\", recurrent_activation=\"hard_sigmoid\", bias_regularizer=None, recurrent_regularizer=None)`\n"
     ]
    },
    {
     "data": {
      "text/plain": [
       "<keras.layers.recurrent.GRU at 0x7f0869cb7390>"
      ]
     },
     "execution_count": 9,
     "metadata": {},
     "output_type": "execute_result"
    }
   ],
   "source": [
    "keras.layers.recurrent.GRU(output_dim, init='glorot_uniform', inner_init='orthogonal', \n",
    "                           activation='tanh', inner_activation='hard_sigmoid', \n",
    "                           W_regularizer=None, U_regularizer=None, b_regularizer=None, \n",
    "                           dropout_W=0.0, dropout_U=0.0)"
   ]
  },
  {
   "cell_type": "markdown",
   "metadata": {},
   "source": [
    "### Your Turn! - Hands on Rnn"
   ]
  },
  {
   "cell_type": "code",
   "execution_count": 10,
   "metadata": {
    "collapsed": false,
    "scrolled": true
   },
   "outputs": [
    {
     "name": "stdout",
     "output_type": "stream",
     "text": [
      "Build model...\n",
      "Train...\n"
     ]
    },
    {
     "name": "stderr",
     "output_type": "stream",
     "text": [
      "/home/ubuntu/anaconda2/envs/deep-learning/lib/python3.5/site-packages/keras/models.py:939: UserWarning: The `nb_epoch` argument in `fit` has been renamed `epochs`.\n",
      "  warnings.warn('The `nb_epoch` argument in `fit` '\n"
     ]
    },
    {
     "name": "stdout",
     "output_type": "stream",
     "text": [
      "Train on 25000 samples, validate on 25000 samples\n",
      "Epoch 1/10\n",
      "25000/25000 [==============================] - 99s 4ms/step - loss: 0.6901 - acc: 0.5593 - val_loss: 0.5484 - val_acc: 0.7257\n",
      "Epoch 2/10\n",
      "25000/25000 [==============================] - 99s 4ms/step - loss: 0.5001 - acc: 0.7698 - val_loss: 0.4544 - val_acc: 0.7967\n",
      "Epoch 3/10\n",
      "25000/25000 [==============================] - 99s 4ms/step - loss: 0.3779 - acc: 0.8444 - val_loss: 0.4368 - val_acc: 0.8174\n",
      "Epoch 4/10\n",
      "25000/25000 [==============================] - 99s 4ms/step - loss: 0.4799 - acc: 0.7736 - val_loss: 0.5347 - val_acc: 0.7623\n",
      "Epoch 5/10\n",
      "25000/25000 [==============================] - 99s 4ms/step - loss: 0.4837 - acc: 0.7744 - val_loss: 0.5025 - val_acc: 0.7602\n",
      "Epoch 6/10\n",
      "25000/25000 [==============================] - 102s 4ms/step - loss: 0.4415 - acc: 0.8048 - val_loss: 0.5491 - val_acc: 0.7690\n",
      "Epoch 7/10\n",
      "25000/25000 [==============================] - 103s 4ms/step - loss: 0.4417 - acc: 0.8036 - val_loss: 0.5575 - val_acc: 0.7238\n",
      "Epoch 8/10\n",
      "25000/25000 [==============================] - 99s 4ms/step - loss: 0.4874 - acc: 0.7655 - val_loss: 0.5530 - val_acc: 0.7603\n",
      "Epoch 9/10\n",
      "25000/25000 [==============================] - 99s 4ms/step - loss: 0.4517 - acc: 0.7987 - val_loss: 0.6554 - val_acc: 0.6098\n",
      "Epoch 10/10\n",
      "25000/25000 [==============================] - 99s 4ms/step - loss: 0.5401 - acc: 0.7199 - val_loss: 0.6374 - val_acc: 0.6321\n",
      "25000/25000 [==============================] - 21s 842us/step\n",
      "\n",
      "Test accuracy: 0.63208\n",
      "Test loss: 0.6374340695\n"
     ]
    }
   ],
   "source": [
    "print('Build model...')\n",
    "model = Sequential()\n",
    "model.add(Embedding(max_features, 128, input_length=maxlen))\n",
    "\n",
    "# Play with those! try and get better results!\n",
    "model.add(SimpleRNN(128))  \n",
    "#model.add(GRU(128))  \n",
    "#model.add(LSTM(128))  \n",
    "\n",
    "model.add(Dropout(0.5))\n",
    "model.add(Dense(1))\n",
    "model.add(Activation('sigmoid'))\n",
    "\n",
    "# try using different optimizers and different optimizer configs\n",
    "model.compile(loss='binary_crossentropy', optimizer='adam' ,metrics=[\"accuracy\"])\n",
    "\n",
    "print(\"Train...\")\n",
    "model.fit(X_train, y_train, batch_size=batch_size, \n",
    "          nb_epoch=max_epoch, validation_data=(X_test, y_test))\n",
    "\n",
    "loss , acc = model.evaluate(X_test, y_test, batch_size=batch_size)\n",
    "print()\n",
    "print('Test accuracy:', acc)\n",
    "print('Test loss:', loss)"
   ]
  },
  {
   "cell_type": "code",
   "execution_count": 11,
   "metadata": {
    "collapsed": false
   },
   "outputs": [
    {
     "name": "stdout",
     "output_type": "stream",
     "text": [
      "Build model...\n",
      "Train...\n"
     ]
    },
    {
     "name": "stderr",
     "output_type": "stream",
     "text": [
      "/home/ubuntu/anaconda2/envs/deep-learning/lib/python3.5/site-packages/keras/models.py:939: UserWarning: The `nb_epoch` argument in `fit` has been renamed `epochs`.\n",
      "  warnings.warn('The `nb_epoch` argument in `fit` '\n"
     ]
    },
    {
     "name": "stdout",
     "output_type": "stream",
     "text": [
      "Train on 25000 samples, validate on 25000 samples\n",
      "Epoch 1/10\n",
      "25000/25000 [==============================] - 226s 9ms/step - loss: 0.4571 - acc: 0.7752 - val_loss: 0.3409 - val_acc: 0.8530\n",
      "Epoch 2/10\n",
      "25000/25000 [==============================] - 236s 9ms/step - loss: 0.2370 - acc: 0.9080 - val_loss: 0.3407 - val_acc: 0.8528\n",
      "Epoch 3/10\n",
      "25000/25000 [==============================] - 227s 9ms/step - loss: 0.1341 - acc: 0.9525 - val_loss: 0.4974 - val_acc: 0.8367\n",
      "Epoch 4/10\n",
      "25000/25000 [==============================] - 226s 9ms/step - loss: 0.0695 - acc: 0.9757 - val_loss: 0.5114 - val_acc: 0.8390\n",
      "Epoch 5/10\n",
      "25000/25000 [==============================] - 234s 9ms/step - loss: 0.0349 - acc: 0.9895 - val_loss: 0.7263 - val_acc: 0.8381\n",
      "Epoch 6/10\n",
      "25000/25000 [==============================] - 227s 9ms/step - loss: 0.0252 - acc: 0.9918 - val_loss: 0.7254 - val_acc: 0.8378\n",
      "Epoch 7/10\n",
      "25000/25000 [==============================] - 226s 9ms/step - loss: 0.0210 - acc: 0.9937 - val_loss: 0.8580 - val_acc: 0.8378\n",
      "Epoch 8/10\n",
      "25000/25000 [==============================] - 233s 9ms/step - loss: 0.0173 - acc: 0.9936 - val_loss: 0.9555 - val_acc: 0.8197\n",
      "Epoch 9/10\n",
      "25000/25000 [==============================] - 230s 9ms/step - loss: 0.0098 - acc: 0.9966 - val_loss: 1.0525 - val_acc: 0.8345\n",
      "Epoch 10/10\n",
      "25000/25000 [==============================] - 226s 9ms/step - loss: 0.0050 - acc: 0.9986 - val_loss: 1.1123 - val_acc: 0.8285\n",
      "25000/25000 [==============================] - 44s 2ms/step\n",
      "\n",
      "Test accuracy: 0.82848\n",
      "Test loss: 1.11231832556\n"
     ]
    }
   ],
   "source": [
    "print('Build model...')\n",
    "model = Sequential()\n",
    "model.add(Embedding(max_features, 128, input_length=maxlen))\n",
    "\n",
    "# Play with those! try and get better results!\n",
    "# model.add(SimpleRNN(128))  \n",
    "model.add(GRU(128))  \n",
    "# model.add(LSTM(128))  \n",
    "\n",
    "model.add(Dropout(0.5))\n",
    "model.add(Dense(1))\n",
    "model.add(Activation('sigmoid'))\n",
    "\n",
    "# try using different optimizers and different optimizer configs\n",
    "model.compile(loss='binary_crossentropy', optimizer='adam' ,metrics=[\"accuracy\"])\n",
    "\n",
    "print(\"Train...\")\n",
    "model.fit(X_train, y_train, batch_size=batch_size, \n",
    "          nb_epoch=max_epoch, validation_data=(X_test, y_test))\n",
    "loss , acc = model.evaluate(X_test, y_test, batch_size=batch_size)\n",
    "print()\n",
    "print('Test accuracy:', acc)\n",
    "print('Test loss:', loss)"
   ]
  },
  {
   "cell_type": "code",
   "execution_count": 12,
   "metadata": {
    "collapsed": false,
    "scrolled": true
   },
   "outputs": [
    {
     "name": "stdout",
     "output_type": "stream",
     "text": [
      "Build model...\n",
      "Train...\n"
     ]
    },
    {
     "name": "stderr",
     "output_type": "stream",
     "text": [
      "/home/ubuntu/anaconda2/envs/deep-learning/lib/python3.5/site-packages/keras/models.py:939: UserWarning: The `nb_epoch` argument in `fit` has been renamed `epochs`.\n",
      "  warnings.warn('The `nb_epoch` argument in `fit` '\n"
     ]
    },
    {
     "name": "stdout",
     "output_type": "stream",
     "text": [
      "Train on 25000 samples, validate on 25000 samples\n",
      "Epoch 1/10\n",
      "25000/25000 [==============================] - 278s 11ms/step - loss: 0.4262 - acc: 0.8031 - val_loss: 0.3457 - val_acc: 0.8472\n",
      "Epoch 2/10\n",
      "25000/25000 [==============================] - 272s 11ms/step - loss: 0.2443 - acc: 0.9043 - val_loss: 0.3556 - val_acc: 0.8462\n",
      "Epoch 3/10\n",
      "25000/25000 [==============================] - 271s 11ms/step - loss: 0.1531 - acc: 0.9449 - val_loss: 0.5806 - val_acc: 0.8261\n",
      "Epoch 4/10\n",
      "25000/25000 [==============================] - 306s 12ms/step - loss: 0.1080 - acc: 0.9616 - val_loss: 0.5681 - val_acc: 0.8336\n",
      "Epoch 5/10\n",
      "25000/25000 [==============================] - 328s 13ms/step - loss: 0.0766 - acc: 0.9738 - val_loss: 0.5304 - val_acc: 0.8276\n",
      "Epoch 6/10\n",
      "25000/25000 [==============================] - 345s 14ms/step - loss: 0.0604 - acc: 0.9791 - val_loss: 0.5783 - val_acc: 0.8257\n",
      "Epoch 7/10\n",
      "25000/25000 [==============================] - 275s 11ms/step - loss: 0.0469 - acc: 0.9844 - val_loss: 0.6304 - val_acc: 0.8218\n",
      "Epoch 8/10\n",
      "25000/25000 [==============================] - 267s 11ms/step - loss: 0.0364 - acc: 0.9882 - val_loss: 0.7479 - val_acc: 0.8282\n",
      "Epoch 9/10\n",
      "25000/25000 [==============================] - 267s 11ms/step - loss: 0.0247 - acc: 0.9928 - val_loss: 0.8606 - val_acc: 0.8260\n",
      "Epoch 10/10\n",
      "25000/25000 [==============================] - 268s 11ms/step - loss: 0.0228 - acc: 0.9928 - val_loss: 0.8576 - val_acc: 0.8300\n",
      "25000/25000 [==============================] - 50s 2ms/step\n",
      "\n",
      "Test accuracy: 0.83\n",
      "Test loss: 0.857561880928\n"
     ]
    }
   ],
   "source": [
    "print('Build model...')\n",
    "model = Sequential()\n",
    "model.add(Embedding(max_features, 128, input_length=maxlen))\n",
    "\n",
    "# Play with those! try and get better results!\n",
    "# model.add(SimpleRNN(128))  \n",
    "# model.add(GRU(128))  \n",
    "model.add(LSTM(128))  \n",
    "\n",
    "model.add(Dropout(0.5))\n",
    "model.add(Dense(1))\n",
    "model.add(Activation('sigmoid'))\n",
    "\n",
    "# try using different optimizers and different optimizer configs\n",
    "model.compile(loss='binary_crossentropy', optimizer='adam' ,metrics=[\"accuracy\"])\n",
    "\n",
    "print(\"Train...\")\n",
    "model.fit(X_train, y_train, batch_size=batch_size, \n",
    "          nb_epoch=max_epoch, validation_data=(X_test, y_test))\n",
    "loss , acc = model.evaluate(X_test, y_test, batch_size=batch_size)\n",
    "print()\n",
    "print('Test accuracy:', acc)\n",
    "print('Test loss:', loss)"
   ]
  },
  {
   "cell_type": "code",
   "execution_count": 13,
   "metadata": {
    "collapsed": true
   },
   "outputs": [],
   "source": [
    "model.evaluate?"
   ]
  },
  {
   "cell_type": "code",
   "execution_count": null,
   "metadata": {
    "collapsed": true
   },
   "outputs": [],
   "source": []
  }
 ],
 "metadata": {
  "kernelspec": {
   "display_name": "Python 3",
   "language": "python",
   "name": "python3"
  },
  "language_info": {
   "codemirror_mode": {
    "name": "ipython",
    "version": 3
   },
   "file_extension": ".py",
   "mimetype": "text/x-python",
   "name": "python",
   "nbconvert_exporter": "python",
   "pygments_lexer": "ipython3",
   "version": "3.5.2"
  }
 },
 "nbformat": 4,
 "nbformat_minor": 0
}
