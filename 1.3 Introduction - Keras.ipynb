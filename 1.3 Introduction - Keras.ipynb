{
 "cells": [
  {
   "cell_type": "code",
   "execution_count": 1,
   "metadata": {
    "collapsed": true
   },
   "outputs": [],
   "source": [
    "%matplotlib inline"
   ]
  },
  {
   "cell_type": "code",
   "execution_count": 3,
   "metadata": {
    "collapsed": false
   },
   "outputs": [],
   "source": [
    "import numpy as np\n",
    "import pandas as pd\n",
    "import theano\n",
    "import theano.tensor as T\n",
    "import matplotlib.pyplot as plt\n",
    "import keras \n",
    "from sklearn.preprocessing import StandardScaler\n",
    "from sklearn.preprocessing import LabelEncoder \n",
    "from keras.utils import np_utils\n",
    "from sklearn.cross_validation import train_test_split\n",
    "from keras.callbacks import EarlyStopping, ModelCheckpoint\n",
    "from keras.models import Sequential\n",
    "from keras.layers import Dense, Activation"
   ]
  },
  {
   "cell_type": "markdown",
   "metadata": {},
   "source": [
    "For this section we will use the Kaggle otto challenge.\n",
    "If you want to follow, Get the data from Kaggle: https://www.kaggle.com/c/otto-group-product-classification-challenge/data"
   ]
  },
  {
   "cell_type": "markdown",
   "metadata": {},
   "source": [
    "#### About the data"
   ]
  },
  {
   "cell_type": "markdown",
   "metadata": {},
   "source": [
    "The Otto Group is one of the world’s biggest e-commerce companies, A consistent analysis of the performance of products is crucial. However, due to diverse global infrastructure, many identical products get classified differently.\n",
    "For this competition, we have provided a dataset with 93 features for more than 200,000 products. The objective is to build a predictive model which is able to distinguish between our main product categories. \n",
    "Each row corresponds to a single product. There are a total of 93 numerical features, which represent counts of different events. All features have been obfuscated and will not be defined any further.\n",
    "\n",
    "https://www.kaggle.com/c/otto-group-product-classification-challenge/data"
   ]
  },
  {
   "cell_type": "code",
   "execution_count": 4,
   "metadata": {
    "collapsed": true
   },
   "outputs": [],
   "source": [
    "def load_data(path, train=True):\n",
    "    \"\"\"Load data from a CSV File\n",
    "    \n",
    "    Parameters\n",
    "    ----------\n",
    "    path: str\n",
    "        The path to the CSV file\n",
    "        \n",
    "    train: bool (default True)\n",
    "        Decide whether or not data are *training data*.\n",
    "        If True, some random shuffling is applied.\n",
    "        \n",
    "    Return\n",
    "    ------\n",
    "    X: numpy.ndarray \n",
    "        The data as a multi dimensional array of floats\n",
    "    ids: numpy.ndarray\n",
    "        A vector of ids for each sample\n",
    "    \"\"\"\n",
    "    df = pd.read_csv(path)\n",
    "    X = df.values.copy()\n",
    "    if train:\n",
    "        np.random.shuffle(X)  # https://youtu.be/uyUXoap67N8\n",
    "        X, labels = X[:, 1:-1].astype(np.float32), X[:, -1]\n",
    "        return X, labels\n",
    "    else:\n",
    "        X, ids = X[:, 1:].astype(np.float32), X[:, 0].astype(str)\n",
    "        return X, ids"
   ]
  },
  {
   "cell_type": "code",
   "execution_count": 5,
   "metadata": {
    "collapsed": false
   },
   "outputs": [],
   "source": [
    "def preprocess_data(X, scaler=None):\n",
    "    \"\"\"Preprocess input data by standardise features \n",
    "    by removing the mean and scaling to unit variance\"\"\"\n",
    "    if not scaler:\n",
    "        scaler = StandardScaler()\n",
    "        scaler.fit(X)\n",
    "    X = scaler.transform(X)\n",
    "    return X, scaler\n",
    "\n",
    "\n",
    "def preprocess_labels(labels, encoder=None, categorical=True):\n",
    "    \"\"\"Encode labels with values among 0 and `n-classes-1`\"\"\"\n",
    "    if not encoder:\n",
    "        encoder = LabelEncoder()\n",
    "        encoder.fit(labels)\n",
    "    y = encoder.transform(labels).astype(np.int32)\n",
    "    if categorical:\n",
    "        y = np_utils.to_categorical(y)\n",
    "    return y, encoder"
   ]
  },
  {
   "cell_type": "code",
   "execution_count": 6,
   "metadata": {
    "collapsed": false
   },
   "outputs": [
    {
     "name": "stdout",
     "output_type": "stream",
     "text": [
      "Loading data...\n",
      "[[  0.   0.   0.   0.   0.   0.   0.   0.   0.   3.   0.   0.   0.   3.\n",
      "    2.   1.   0.   0.   0.   0.   0.   0.   0.   5.   3.   1.   1.   0.\n",
      "    0.   0.   0.   0.   1.   0.   0.   1.   0.   1.   0.   1.   0.   0.\n",
      "    0.   0.   0.   0.   0.   0.   0.   0.   0.   0.   0.   0.   0.   0.\n",
      "    0.   0.   0.   0.   0.   0.   0.   3.   0.   0.   0.   0.   1.   1.\n",
      "    0.   1.   0.   0.   0.   0.   0.   0.   0.   0.   0.   0.   0.   0.\n",
      "    0.  11.   1.  20.   0.   0.   0.   0.   0.]]\n",
      "9 classes\n",
      "93 dims\n"
     ]
    }
   ],
   "source": [
    "print(\"Loading data...\")\n",
    "X, labels = load_data('/home/ubuntu/deep-learning-keras-tensorflow/data/train.csv', train=True)\n",
    "X, scaler = preprocess_data(X)\n",
    "Y, encoder = preprocess_labels(labels)\n",
    "\n",
    "\n",
    "X_test, ids = load_data('/home/ubuntu/deep-learning-keras-tensorflow/data/test.csv', train=False)\n",
    "X_test, ids = X_test[:1000], ids[:1000]\n",
    "\n",
    "#Plotting the data\n",
    "print(X_test[:1])\n",
    "\n",
    "X_test, _ = preprocess_data(X_test, scaler)\n",
    "\n",
    "\n",
    "nb_classes = Y.shape[1]\n",
    "print(nb_classes, 'classes')\n",
    "\n",
    "dims = X.shape[1]\n",
    "print(dims, 'dims')"
   ]
  },
  {
   "cell_type": "markdown",
   "metadata": {},
   "source": [
    "Now lets create and train a logistic regression model."
   ]
  },
  {
   "cell_type": "markdown",
   "metadata": {},
   "source": [
    "---"
   ]
  },
  {
   "cell_type": "markdown",
   "metadata": {},
   "source": [
    "# Keras\n",
    "\n",
    "## Deep Learning library for Theano and TensorFlow"
   ]
  },
  {
   "cell_type": "markdown",
   "metadata": {},
   "source": [
    "Keras is a minimalist, highly modular neural networks library, written in Python and capable of running on top of either TensorFlow or Theano. It was developed with a focus on enabling fast experimentation. Being able to go from idea to result with the least possible delay is key to doing good research.\n",
    "ref: https://keras.io/"
   ]
  },
  {
   "cell_type": "markdown",
   "metadata": {},
   "source": [
    "## Why this name, Keras?\n",
    "\n",
    "Keras (κέρας) means _horn_ in Greek. It is a reference to a literary image from ancient Greek and Latin literature, first found in the _Odyssey_, where dream spirits (_Oneiroi_, singular _Oneiros_) are divided between those who deceive men with false visions, who arrive to Earth through a gate of ivory, and those who announce a future that will come to pass, who arrive through a gate of horn. It's a play on the words κέρας (horn) / κραίνω (fulfill), and ἐλέφας (ivory) / ἐλεφαίρομαι (deceive).\n",
    "\n",
    "Keras was initially developed as part of the research effort of project ONEIROS (Open-ended Neuro-Electronic Intelligent Robot Operating System).\n",
    "\n",
    ">_\"Oneiroi are beyond our unravelling --who can be sure what tale they tell? Not all that men look for comes to pass. Two gates there are that give passage to fleeting Oneiroi; one is made of horn, one of ivory. The Oneiroi that pass through sawn ivory are deceitful, bearing a message that will not be fulfilled; those that come out through polished horn have truth behind them, to be accomplished for men who see them.\"_ Homer, Odyssey 19. 562 ff (Shewring translation)."
   ]
  },
  {
   "cell_type": "markdown",
   "metadata": {},
   "source": [
    "## Hands On - Keras Logistic Regression\n"
   ]
  },
  {
   "cell_type": "code",
   "execution_count": 7,
   "metadata": {
    "collapsed": false
   },
   "outputs": [
    {
     "name": "stdout",
     "output_type": "stream",
     "text": [
      "93 dims\n",
      "Building model...\n",
      "9 classes\n",
      "Epoch 1/10\n",
      "61878/61878 [==============================] - 2s - loss: 1.0639     \n",
      "Epoch 2/10\n",
      "61878/61878 [==============================] - 1s - loss: 0.7750     \n",
      "Epoch 3/10\n",
      "61878/61878 [==============================] - 1s - loss: 0.7302     \n",
      "Epoch 4/10\n",
      "61878/61878 [==============================] - 1s - loss: 0.7081     \n",
      "Epoch 5/10\n",
      "61878/61878 [==============================] - 1s - loss: 0.6946     \n",
      "Epoch 6/10\n",
      "61878/61878 [==============================] - 1s - loss: 0.6853     \n",
      "Epoch 7/10\n",
      "61878/61878 [==============================] - 1s - loss: 0.6785     \n",
      "Epoch 8/10\n",
      "61878/61878 [==============================] - 1s - loss: 0.6733     \n",
      "Epoch 9/10\n",
      "61878/61878 [==============================] - 1s - loss: 0.6690     \n",
      "Epoch 10/10\n",
      "61878/61878 [==============================] - 1s - loss: 0.6655     \n"
     ]
    },
    {
     "data": {
      "text/plain": [
       "<keras.callbacks.History at 0x7f3e7728d710>"
      ]
     },
     "execution_count": 7,
     "metadata": {},
     "output_type": "execute_result"
    }
   ],
   "source": [
    "dims = X.shape[1] #number of features in our data  - 93\n",
    "print(dims, 'dims')\n",
    "print(\"Building model...\")\n",
    "\n",
    "nb_classes = Y.shape[1] #number of classes in our data - 9\n",
    "print(nb_classes, 'classes')\n",
    "\n",
    "model = Sequential() #intialize a model\n",
    "model.add(Dense(nb_classes, input_shape=(dims,))) #add a fully connected layer with 9 neurons\n",
    "model.add(Activation('softmax')) #add softmax activation\n",
    "model.compile(optimizer='sgd', loss='categorical_crossentropy') #add the sgd optimizer to optimize our model \n",
    "model.fit(X, Y) #start optimizing "
   ]
  },
  {
   "cell_type": "code",
   "execution_count": 8,
   "metadata": {
    "collapsed": false
   },
   "outputs": [],
   "source": [
    "train_predictions = model.predict(X).argmax(axis=1)"
   ]
  },
  {
   "cell_type": "code",
   "execution_count": 9,
   "metadata": {
    "collapsed": false
   },
   "outputs": [
    {
     "name": "stdout",
     "output_type": "stream",
     "text": [
      "train accuracy is 0.7579592100585022\n"
     ]
    }
   ],
   "source": [
    "print('train accuracy is {0}'.format(sum(Y.argmax(axis=1)==train_predictions)/train_predictions.shape[0]))"
   ]
  },
  {
   "cell_type": "markdown",
   "metadata": {},
   "source": [
    "Simplicity is pretty impressive right? :)"
   ]
  },
  {
   "cell_type": "markdown",
   "metadata": {},
   "source": [
    "Now lets understand:\n",
    "<pre>The core data structure of Keras is a <b>model</b>, a way to organize layers. The main type of model is the <b>Sequential</b> model, a linear stack of layers.</pre>\n"
   ]
  },
  {
   "cell_type": "markdown",
   "metadata": {},
   "source": [
    "What we did here is stacking a Fully Connected (<b>Dense</b>) layer of trainable weights from the input to the output and an <b>Activation</b> layer on top of the weights layer."
   ]
  },
  {
   "cell_type": "markdown",
   "metadata": {},
   "source": [
    "##### Dense"
   ]
  },
  {
   "cell_type": "markdown",
   "metadata": {
    "collapsed": true
   },
   "source": [
    "```python\n",
    "from keras.layers.core import Dense\n",
    "\n",
    "Dense(output_dim, init='glorot_uniform', activation='linear', \n",
    "      weights=None, W_regularizer=None, b_regularizer=None,\n",
    "      activity_regularizer=None, W_constraint=None, \n",
    "      b_constraint=None, bias=True, input_dim=None)\n",
    "```"
   ]
  },
  {
   "cell_type": "markdown",
   "metadata": {},
   "source": [
    "##### Activation"
   ]
  },
  {
   "cell_type": "markdown",
   "metadata": {
    "collapsed": true
   },
   "source": [
    "```python\n",
    "from keras.layers.core import Activation\n",
    "\n",
    "Activation(activation)\n",
    "```"
   ]
  },
  {
   "cell_type": "markdown",
   "metadata": {},
   "source": [
    "##### Optimizer"
   ]
  },
  {
   "cell_type": "markdown",
   "metadata": {},
   "source": [
    "If you need to, you can further configure your optimizer. A core principle of Keras is to make things reasonably simple, while allowing the user to be fully in control when they need to (the ultimate control being the easy extensibility of the source code).\n",
    "Here we used <b>SGD</b> (stochastic gradient descent) as an optimization algorithm for our trainable weights.  "
   ]
  },
  {
   "cell_type": "markdown",
   "metadata": {},
   "source": [
    "\"Data Sciencing\" this example a little bit more\n",
    "====="
   ]
  },
  {
   "cell_type": "markdown",
   "metadata": {},
   "source": [
    "What we did here is nice, however in the real world it is not useable because of overfitting.\n",
    "Lets try and solve it with cross validation."
   ]
  },
  {
   "cell_type": "markdown",
   "metadata": {},
   "source": [
    "##### Overfitting"
   ]
  },
  {
   "cell_type": "markdown",
   "metadata": {},
   "source": [
    "In overfitting, a statistical model describes random error or noise instead of the underlying relationship. Overfitting occurs when a model is excessively complex, such as having too many parameters relative to the number of observations. \n",
    "\n",
    "A model that has been overfit has poor predictive performance, as it overreacts to minor fluctuations in the training data."
   ]
  },
  {
   "cell_type": "markdown",
   "metadata": {
    "collapsed": false
   },
   "source": [
    "\n",
    "<img src =\"imgs/overfitting.png\">"
   ]
  },
  {
   "cell_type": "markdown",
   "metadata": {},
   "source": [
    "<pre>To avoid overfitting, we will first split out data to training set and test set and test out model on the test set.\n",
    "Next: we will use two of keras's callbacks <b>EarlyStopping</b> and <b>ModelCheckpoint</b></pre>"
   ]
  },
  {
   "cell_type": "code",
   "execution_count": 10,
   "metadata": {
    "collapsed": false,
    "scrolled": false
   },
   "outputs": [
    {
     "name": "stdout",
     "output_type": "stream",
     "text": [
      "Train on 52596 samples, validate on 9282 samples\n",
      "Epoch 1/20\n",
      "52596/52596 [==============================] - 0s - loss: 0.6606 - val_loss: 0.6698\n",
      "Epoch 2/20\n",
      "52596/52596 [==============================] - 0s - loss: 0.6597 - val_loss: 0.6699\n",
      "Epoch 3/20\n",
      "52596/52596 [==============================] - 0s - loss: 0.6590 - val_loss: 0.6700\n",
      "Epoch 4/20\n",
      "52596/52596 [==============================] - 0s - loss: 0.6583 - val_loss: 0.6700\n",
      "Epoch 5/20\n",
      "52596/52596 [==============================] - 0s - loss: 0.6577 - val_loss: 0.6702\n",
      "Epoch 6/20\n",
      "52224/52596 [============================>.] - ETA: 0s - loss: 0.6568Epoch 00005: early stopping\n",
      "52596/52596 [==============================] - 0s - loss: 0.6571 - val_loss: 0.6700\n"
     ]
    },
    {
     "data": {
      "text/plain": [
       "<keras.callbacks.History at 0x7f3e7303fd30>"
      ]
     },
     "execution_count": 10,
     "metadata": {},
     "output_type": "execute_result"
    }
   ],
   "source": [
    "X_train, X_val, Y_train, Y_val = train_test_split(X, Y, test_size=0.15, random_state=42)\n",
    "\n",
    "fBestModel = 'best_model.h5' \n",
    "early_stop = EarlyStopping(monitor='val_loss', patience=4, verbose=1) \n",
    "best_model = ModelCheckpoint(fBestModel, verbose=0, save_best_only=True)\n",
    "model.fit(X_train, Y_train, validation_data = (X_val, Y_val), nb_epoch=20, \n",
    "          batch_size=128, verbose=True, validation_split=0.15, \n",
    "          callbacks=[best_model, early_stop])"
   ]
  },
  {
   "cell_type": "code",
   "execution_count": 11,
   "metadata": {
    "collapsed": false
   },
   "outputs": [
    {
     "name": "stdout",
     "output_type": "stream",
     "text": [
      "train accuracy is 0.7579473724237584\n"
     ]
    }
   ],
   "source": [
    "train_predictions = model.predict(X_train).argmax(axis=1)\n",
    "print('train accuracy is {0}'.format(sum(Y_train.argmax(axis=1)==train_predictions)/train_predictions.shape[0]))"
   ]
  },
  {
   "cell_type": "code",
   "execution_count": 12,
   "metadata": {
    "collapsed": false
   },
   "outputs": [
    {
     "name": "stdout",
     "output_type": "stream",
     "text": [
      "test accuracy is 0.7560870502046972\n"
     ]
    }
   ],
   "source": [
    "val_predictions = model.predict(X_val).argmax(axis=1)\n",
    "print('test accuracy is {0}'.format(sum(Y_val.argmax(axis=1)==val_predictions)/val_predictions.shape[0]))"
   ]
  },
  {
   "cell_type": "markdown",
   "metadata": {},
   "source": [
    "## Multi-Layer Perceptron and Fully Connected"
   ]
  },
  {
   "cell_type": "markdown",
   "metadata": {},
   "source": [
    "So, how hard can it be to build a Multi-Layer percepton with keras?\n",
    "It is baiscly the same, just add more layers!"
   ]
  },
  {
   "cell_type": "code",
   "execution_count": 13,
   "metadata": {
    "collapsed": false
   },
   "outputs": [
    {
     "name": "stdout",
     "output_type": "stream",
     "text": [
      "Train on 52596 samples, validate on 9282 samples\n",
      "Epoch 1/20\n",
      "52596/52596 [==============================] - 0s - loss: 1.1729 - val_loss: 0.8778\n",
      "Epoch 2/20\n",
      "52596/52596 [==============================] - 0s - loss: 0.8187 - val_loss: 0.7891\n",
      "Epoch 3/20\n",
      "52596/52596 [==============================] - 0s - loss: 0.7592 - val_loss: 0.7514\n",
      "Epoch 4/20\n",
      "52596/52596 [==============================] - 0s - loss: 0.7289 - val_loss: 0.7294\n",
      "Epoch 5/20\n",
      "52596/52596 [==============================] - 0s - loss: 0.7101 - val_loss: 0.7148\n",
      "Epoch 6/20\n",
      "52596/52596 [==============================] - 0s - loss: 0.6970 - val_loss: 0.7053\n",
      "Epoch 7/20\n",
      "52596/52596 [==============================] - 0s - loss: 0.6871 - val_loss: 0.6978\n",
      "Epoch 8/20\n",
      "52596/52596 [==============================] - 0s - loss: 0.6798 - val_loss: 0.6920\n",
      "Epoch 9/20\n",
      "52596/52596 [==============================] - 0s - loss: 0.6738 - val_loss: 0.6867\n",
      "Epoch 10/20\n",
      "52596/52596 [==============================] - 0s - loss: 0.6690 - val_loss: 0.6834\n",
      "Epoch 11/20\n",
      "52596/52596 [==============================] - 0s - loss: 0.6650 - val_loss: 0.6800\n",
      "Epoch 12/20\n",
      "52596/52596 [==============================] - 0s - loss: 0.6616 - val_loss: 0.6774\n",
      "Epoch 13/20\n",
      "52596/52596 [==============================] - 0s - loss: 0.6587 - val_loss: 0.6749\n",
      "Epoch 14/20\n",
      "52596/52596 [==============================] - 0s - loss: 0.6563 - val_loss: 0.6734\n",
      "Epoch 15/20\n",
      "52596/52596 [==============================] - 0s - loss: 0.6539 - val_loss: 0.6713\n",
      "Epoch 16/20\n",
      "52596/52596 [==============================] - 0s - loss: 0.6520 - val_loss: 0.6696\n",
      "Epoch 17/20\n",
      "52596/52596 [==============================] - 0s - loss: 0.6502 - val_loss: 0.6676\n",
      "Epoch 18/20\n",
      "52596/52596 [==============================] - 0s - loss: 0.6486 - val_loss: 0.6673\n",
      "Epoch 19/20\n",
      "52596/52596 [==============================] - 0s - loss: 0.6473 - val_loss: 0.6661\n",
      "Epoch 20/20\n",
      "52596/52596 [==============================] - 0s - loss: 0.6461 - val_loss: 0.6660\n"
     ]
    },
    {
     "data": {
      "text/plain": [
       "<keras.callbacks.History at 0x7f3e72e2d668>"
      ]
     },
     "execution_count": 13,
     "metadata": {},
     "output_type": "execute_result"
    }
   ],
   "source": [
    "model = Sequential()\n",
    "model.add(Dense(100, input_shape=(dims,)))\n",
    "model.add(Dense(nb_classes))\n",
    "model.add(Activation('softmax'))\n",
    "model.compile(optimizer='sgd', loss='categorical_crossentropy')\n",
    "model.fit(X_train, Y_train, validation_data = (X_val, Y_val), nb_epoch=20, \n",
    "          batch_size=128, verbose=True, validation_split=0.15, \n",
    "          callbacks=[best_model, early_stop]) "
   ]
  },
  {
   "cell_type": "code",
   "execution_count": 14,
   "metadata": {
    "collapsed": false
   },
   "outputs": [
    {
     "name": "stdout",
     "output_type": "stream",
     "text": [
      "train accuracy is 0.7604190432732527\n"
     ]
    }
   ],
   "source": [
    "train_predictions = model.predict(X_train).argmax(axis=1)\n",
    "print('train accuracy is {0}'.format(sum(Y_train.argmax(axis=1)==train_predictions)/train_predictions.shape[0]))"
   ]
  },
  {
   "cell_type": "code",
   "execution_count": 15,
   "metadata": {
    "collapsed": false
   },
   "outputs": [
    {
     "name": "stdout",
     "output_type": "stream",
     "text": [
      "test accuracy is 0.755440637793579\n"
     ]
    }
   ],
   "source": [
    "val_predictions = model.predict(X_val).argmax(axis=1)\n",
    "print('test accuracy is {0}'.format(sum(Y_val.argmax(axis=1)==val_predictions)/val_predictions.shape[0]))"
   ]
  },
  {
   "cell_type": "markdown",
   "metadata": {},
   "source": [
    "Your Turn!"
   ]
  },
  {
   "cell_type": "markdown",
   "metadata": {},
   "source": [
    "## Hands On - Keras Fully Connected\n"
   ]
  },
  {
   "cell_type": "markdown",
   "metadata": {},
   "source": [
    "Take couple of minutes and Try and optimize the number of layers and the number of parameters in the layers to get the best results. "
   ]
  },
  {
   "cell_type": "code",
   "execution_count": 16,
   "metadata": {
    "collapsed": false
   },
   "outputs": [
    {
     "name": "stdout",
     "output_type": "stream",
     "text": [
      "Train on 52596 samples, validate on 9282 samples\n",
      "Epoch 1/50\n",
      "52596/52596 [==============================] - 3s - loss: 0.8551 - val_loss: 0.7323\n",
      "Epoch 2/50\n",
      "52596/52596 [==============================] - 3s - loss: 0.7029 - val_loss: 0.7001\n",
      "Epoch 3/50\n",
      "52596/52596 [==============================] - 3s - loss: 0.6799 - val_loss: 0.6845\n",
      "Epoch 4/50\n",
      "52596/52596 [==============================] - 3s - loss: 0.6689 - val_loss: 0.6882\n",
      "Epoch 5/50\n",
      "52596/52596 [==============================] - 3s - loss: 0.6629 - val_loss: 0.6832\n",
      "Epoch 6/50\n",
      "52596/52596 [==============================] - 3s - loss: 0.6583 - val_loss: 0.6740\n",
      "Epoch 7/50\n",
      "52596/52596 [==============================] - 3s - loss: 0.6537 - val_loss: 0.6706\n",
      "Epoch 8/50\n",
      "52596/52596 [==============================] - 3s - loss: 0.6527 - val_loss: 0.6722\n",
      "Epoch 9/50\n",
      "52596/52596 [==============================] - 3s - loss: 0.6498 - val_loss: 0.6701\n",
      "Epoch 10/50\n",
      "52596/52596 [==============================] - 3s - loss: 0.6475 - val_loss: 0.6700\n",
      "Epoch 11/50\n",
      "52596/52596 [==============================] - 5s - loss: 0.6462 - val_loss: 0.6736\n",
      "Epoch 12/50\n",
      "52596/52596 [==============================] - 4s - loss: 0.6441 - val_loss: 0.6715\n",
      "Epoch 13/50\n",
      "52596/52596 [==============================] - 3s - loss: 0.6440 - val_loss: 0.6694\n",
      "Epoch 14/50\n",
      "52596/52596 [==============================] - 3s - loss: 0.6430 - val_loss: 0.6654\n",
      "Epoch 15/50\n",
      "52596/52596 [==============================] - 3s - loss: 0.6418 - val_loss: 0.6605\n",
      "Epoch 16/50\n",
      "52596/52596 [==============================] - 5s - loss: 0.6415 - val_loss: 0.6612\n",
      "Epoch 17/50\n",
      "52596/52596 [==============================] - 4s - loss: 0.6403 - val_loss: 0.6636\n",
      "Epoch 18/50\n",
      "52596/52596 [==============================] - 3s - loss: 0.6401 - val_loss: 0.6659\n",
      "Epoch 19/50\n",
      "52596/52596 [==============================] - 3s - loss: 0.6394 - val_loss: 0.6622\n",
      "Epoch 20/50\n",
      "52480/52596 [============================>.] - ETA: 0s - loss: 0.6393Epoch 00019: early stopping\n",
      "52596/52596 [==============================] - 4s - loss: 0.6392 - val_loss: 0.6637\n"
     ]
    },
    {
     "data": {
      "text/plain": [
       "<keras.callbacks.History at 0x7f3e72b40d68>"
      ]
     },
     "execution_count": 16,
     "metadata": {},
     "output_type": "execute_result"
    }
   ],
   "source": [
    "model = Sequential()\n",
    "model.add(Dense(100, input_shape=(dims,)))\n",
    "# Play with it! add as much layers as you want! try and get better results.\n",
    "model.add(Dense(100))\n",
    "model.add(Dense(512))\n",
    "model.add(Dense(512))\n",
    "model.add(Dense(100))\n",
    "model.add(Dense(nb_classes))\n",
    "\n",
    "model.add(Activation('softmax'))\n",
    "model.compile(optimizer='sgd', loss='categorical_crossentropy')\n",
    "model.fit(X_train, Y_train, validation_data = (X_val, Y_val), nb_epoch=50, \n",
    "          batch_size=128, verbose=True, validation_split=0.15, \n",
    "          callbacks=[best_model, early_stop]) "
   ]
  },
  {
   "cell_type": "code",
   "execution_count": 17,
   "metadata": {
    "collapsed": false
   },
   "outputs": [
    {
     "name": "stdout",
     "output_type": "stream",
     "text": [
      "train accuracy is 0.7597207408125667\n"
     ]
    }
   ],
   "source": [
    "train_predictions = model.predict(X).argmax(axis=1)\n",
    "print('train accuracy is {0}'.format(sum(Y.argmax(axis=1)==train_predictions)/train_predictions.shape[0]))"
   ]
  },
  {
   "cell_type": "code",
   "execution_count": 18,
   "metadata": {
    "collapsed": false
   },
   "outputs": [
    {
     "name": "stdout",
     "output_type": "stream",
     "text": [
      "test accuracy is 0.757810816634346\n"
     ]
    }
   ],
   "source": [
    "val_predictions = model.predict(X_val).argmax(axis=1)\n",
    "print('test accuracy is {0}'.format(sum(Y_val.argmax(axis=1)==val_predictions)/val_predictions.shape[0]))"
   ]
  },
  {
   "cell_type": "markdown",
   "metadata": {},
   "source": [
    "### Let's overfit it"
   ]
  },
  {
   "cell_type": "code",
   "execution_count": 19,
   "metadata": {
    "collapsed": false
   },
   "outputs": [
    {
     "name": "stdout",
     "output_type": "stream",
     "text": [
      "Train on 52596 samples, validate on 9282 samples\n",
      "Epoch 1/30\n",
      "52596/52596 [==============================] - 10s - loss: 0.7842 - val_loss: 0.7002\n",
      "Epoch 2/30\n",
      "52596/52596 [==============================] - 11s - loss: 0.6771 - val_loss: 0.6889\n",
      "Epoch 3/30\n",
      "52596/52596 [==============================] - 11s - loss: 0.6652 - val_loss: 0.6803\n",
      "Epoch 4/30\n",
      "52596/52596 [==============================] - 11s - loss: 0.6582 - val_loss: 0.6728\n",
      "Epoch 5/30\n",
      "52596/52596 [==============================] - 10s - loss: 0.6545 - val_loss: 0.6672\n",
      "Epoch 6/30\n",
      "52596/52596 [==============================] - 11s - loss: 0.6511 - val_loss: 0.6676\n",
      "Epoch 7/30\n",
      "52596/52596 [==============================] - 10s - loss: 0.6496 - val_loss: 0.6698\n",
      "Epoch 8/30\n",
      "52596/52596 [==============================] - 11s - loss: 0.6476 - val_loss: 0.6652\n",
      "Epoch 9/30\n",
      "52596/52596 [==============================] - 10s - loss: 0.6455 - val_loss: 0.6669\n",
      "Epoch 10/30\n",
      "52596/52596 [==============================] - 10s - loss: 0.6443 - val_loss: 0.6669\n",
      "Epoch 11/30\n",
      "52596/52596 [==============================] - 10s - loss: 0.6440 - val_loss: 0.6596\n",
      "Epoch 12/30\n",
      "52596/52596 [==============================] - 11s - loss: 0.6430 - val_loss: 0.6615\n",
      "Epoch 13/30\n",
      "52596/52596 [==============================] - 9s - loss: 0.6426 - val_loss: 0.6588\n",
      "Epoch 14/30\n",
      "52596/52596 [==============================] - 9s - loss: 0.6419 - val_loss: 0.6711\n",
      "Epoch 15/30\n",
      "52596/52596 [==============================] - 15s - loss: 0.6407 - val_loss: 0.6641\n",
      "Epoch 16/30\n",
      "52596/52596 [==============================] - 18s - loss: 0.6406 - val_loss: 0.6612\n",
      "Epoch 17/30\n",
      "52596/52596 [==============================] - 22s - loss: 0.6394 - val_loss: 0.6625\n",
      "Epoch 18/30\n",
      "52596/52596 [==============================] - 13s - loss: 0.6396 - val_loss: 0.6619\n",
      "Epoch 19/30\n",
      "52596/52596 [==============================] - 9s - loss: 0.6391 - val_loss: 0.6625\n",
      "Epoch 20/30\n",
      "52596/52596 [==============================] - 10s - loss: 0.6387 - val_loss: 0.6658\n",
      "Epoch 21/30\n",
      "52596/52596 [==============================] - 10s - loss: 0.6393 - val_loss: 0.6614\n",
      "Epoch 22/30\n",
      "52596/52596 [==============================] - 10s - loss: 0.6383 - val_loss: 0.6617\n",
      "Epoch 23/30\n",
      "52596/52596 [==============================] - 10s - loss: 0.6375 - val_loss: 0.6614\n",
      "Epoch 24/30\n",
      "52596/52596 [==============================] - 10s - loss: 0.6369 - val_loss: 0.6696\n",
      "Epoch 25/30\n",
      "52596/52596 [==============================] - 10s - loss: 0.6378 - val_loss: 0.6675\n",
      "Epoch 26/30\n",
      "52596/52596 [==============================] - 10s - loss: 0.6367 - val_loss: 0.6646\n",
      "Epoch 27/30\n",
      "52596/52596 [==============================] - 10s - loss: 0.6367 - val_loss: 0.6630\n",
      "Epoch 28/30\n",
      "52596/52596 [==============================] - 10s - loss: 0.6369 - val_loss: 0.6546\n",
      "Epoch 29/30\n",
      "52596/52596 [==============================] - 10s - loss: 0.6362 - val_loss: 0.6636\n",
      "Epoch 30/30\n",
      "52596/52596 [==============================] - 17s - loss: 0.6355 - val_loss: 0.6665\n"
     ]
    }
   ],
   "source": [
    "model = Sequential()\n",
    "model.add(Dense(512, input_shape=(dims,)))\n",
    "# Play with it! add as much layers as you want! try and get better results.\n",
    "model.add(Dense(512))\n",
    "model.add(Dense(512))\n",
    "model.add(Dense(512))\n",
    "model.add(Dense(512))\n",
    "model.add(Dense(512))\n",
    "model.add(Dense(nb_classes))\n",
    "\n",
    "model.add(Activation('softmax'))\n",
    "model.compile(optimizer='sgd', loss='categorical_crossentropy')\n",
    "history = model.fit(X_train, Y_train, validation_data = (X_val, Y_val), nb_epoch=30, \n",
    "          batch_size=128, verbose=True, validation_split=0.15, ) "
   ]
  },
  {
   "cell_type": "code",
   "execution_count": 19,
   "metadata": {
    "collapsed": false
   },
   "outputs": [
    {
     "data": {
      "text/plain": [
       "<matplotlib.legend.Legend at 0x7f29717c8898>"
      ]
     },
     "execution_count": 19,
     "metadata": {},
     "output_type": "execute_result"
    },
    {
     "data": {
      "image/png": "[encoded data removed]",
      "text/plain": [
       "<matplotlib.figure.Figure at 0x7f2978cf03c8>"
      ]
     },
     "metadata": {},
     "output_type": "display_data"
    }
   ],
   "source": [
    "plt.plot(history.history['loss'])\n",
    "plt.plot(history.history['val_loss'])\n",
    "plt.title('model accuracy')\n",
    "plt.ylabel('accuracy')\n",
    "plt.xlabel('epoch')\n",
    "plt.legend(['train', 'test'], loc='upper left')"
   ]
  },
  {
   "cell_type": "markdown",
   "metadata": {},
   "source": [
    "Building a question answering system, an image classification model, a Neural Turing Machine, a word2vec embedder or any other model is just as fast. The ideas behind deep learning are simple, so why should their implementation be painful?"
   ]
  },
  {
   "cell_type": "markdown",
   "metadata": {},
   "source": [
    "#### Theoretical Motivations for depth"
   ]
  },
  {
   "cell_type": "markdown",
   "metadata": {},
   "source": [
    ">Much has been studied about the depth of neural nets. Is has been proven mathematically[1] and empirically that convolutional neural network benifit from depth! "
   ]
  },
  {
   "cell_type": "markdown",
   "metadata": {},
   "source": [
    "[1] - On the Expressive Power of Deep Learning: A Tensor Analysis - Cohen, et al 2015"
   ]
  },
  {
   "cell_type": "markdown",
   "metadata": {},
   "source": [
    "#### Theoretical Motivations for depth"
   ]
  },
  {
   "cell_type": "markdown",
   "metadata": {},
   "source": [
    "One much quoted theorem about neural network states that:"
   ]
  },
  {
   "cell_type": "markdown",
   "metadata": {},
   "source": [
    ">Universal approximation theorem states[1] that a feed-forward network with a single hidden layer containing a finite number of neurons (i.e., a multilayer perceptron), can approximate continuous functions on compact subsets of $\\mathbb{R}^n$, under mild assumptions on the activation function. The theorem thus states that simple neural networks can represent a wide variety of interesting functions when given appropriate parameters; however, it does not touch upon the algorithmic learnability of those parameters."
   ]
  },
  {
   "cell_type": "markdown",
   "metadata": {},
   "source": [
    "[1] - Approximation Capabilities of Multilayer Feedforward Networks - Kurt Hornik 1991"
   ]
  }
 ],
 "metadata": {
  "anaconda-cloud": {},
  "kernelspec": {
   "display_name": "Python 3",
   "language": "python",
   "name": "python3"
  },
  "language_info": {
   "codemirror_mode": {
    "name": "ipython",
    "version": 3
   },
   "file_extension": ".py",
   "mimetype": "text/x-python",
   "name": "python",
   "nbconvert_exporter": "python",
   "pygments_lexer": "ipython3",
   "version": "3.5.2"
  }
 },
 "nbformat": 4,
 "nbformat_minor": 0
}
