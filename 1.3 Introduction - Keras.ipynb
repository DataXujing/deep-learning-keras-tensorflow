{
 "cells": [
  {
   "cell_type": "code",
   "execution_count": 1,
   "metadata": {
    "collapsed": true
   },
   "outputs": [],
   "source": [
    "%matplotlib inline"
   ]
  },
  {
   "cell_type": "code",
   "execution_count": 2,
   "metadata": {
    "collapsed": false
   },
   "outputs": [
    {
     "name": "stderr",
     "output_type": "stream",
     "text": [
      "Using TensorFlow backend.\n"
     ]
    }
   ],
   "source": [
    "import numpy as np\n",
    "import pandas as pd\n",
    "import theano\n",
    "import theano.tensor as T\n",
    "import matplotlib.pyplot as plt\n",
    "import keras \n",
    "from sklearn.preprocessing import StandardScaler\n",
    "from sklearn.preprocessing import LabelEncoder \n",
    "from keras.utils import np_utils\n",
    "from sklearn.cross_validation import train_test_split\n",
    "from keras.callbacks import EarlyStopping, ModelCheckpoint\n",
    "from keras.models import Sequential\n",
    "from keras.layers import Dense, Activation"
   ]
  },
  {
   "cell_type": "markdown",
   "metadata": {},
   "source": [
    "For this section we will use the Kaggle otto challenge.\n",
    "If you want to follow, Get the data from Kaggle: https://www.kaggle.com/c/otto-group-product-classification-challenge/data"
   ]
  },
  {
   "cell_type": "markdown",
   "metadata": {},
   "source": [
    "#### About the data"
   ]
  },
  {
   "cell_type": "markdown",
   "metadata": {},
   "source": [
    "The Otto Group is one of the world’s biggest e-commerce companies, A consistent analysis of the performance of products is crucial. However, due to diverse global infrastructure, many identical products get classified differently.\n",
    "For this competition, we have provided a dataset with 93 features for more than 200,000 products. The objective is to build a predictive model which is able to distinguish between our main product categories. \n",
    "Each row corresponds to a single product. There are a total of 93 numerical features, which represent counts of different events. All features have been obfuscated and will not be defined any further.\n",
    "\n",
    "https://www.kaggle.com/c/otto-group-product-classification-challenge/data"
   ]
  },
  {
   "cell_type": "code",
   "execution_count": 3,
   "metadata": {
    "collapsed": true
   },
   "outputs": [],
   "source": [
    "def load_data(path, train=True):\n",
    "    \"\"\"Load data from a CSV File\n",
    "    \n",
    "    Parameters\n",
    "    ----------\n",
    "    path: str\n",
    "        The path to the CSV file\n",
    "        \n",
    "    train: bool (default True)\n",
    "        Decide whether or not data are *training data*.\n",
    "        If True, some random shuffling is applied.\n",
    "        \n",
    "    Return\n",
    "    ------\n",
    "    X: numpy.ndarray \n",
    "        The data as a multi dimensional array of floats\n",
    "    ids: numpy.ndarray\n",
    "        A vector of ids for each sample\n",
    "    \"\"\"\n",
    "    df = pd.read_csv(path)\n",
    "    X = df.values.copy()\n",
    "    if train:\n",
    "        np.random.shuffle(X)  # https://youtu.be/uyUXoap67N8\n",
    "        X, labels = X[:, 1:-1].astype(np.float32), X[:, -1]\n",
    "        return X, labels\n",
    "    else:\n",
    "        X, ids = X[:, 1:].astype(np.float32), X[:, 0].astype(str)\n",
    "        return X, ids"
   ]
  },
  {
   "cell_type": "code",
   "execution_count": 4,
   "metadata": {
    "collapsed": true
   },
   "outputs": [],
   "source": [
    "def preprocess_data(X, scaler=None):\n",
    "    \"\"\"Preprocess input data by standardise features \n",
    "    by removing the mean and scaling to unit variance\"\"\"\n",
    "    if not scaler:\n",
    "        scaler = StandardScaler()\n",
    "        scaler.fit(X)\n",
    "    X = scaler.transform(X)\n",
    "    return X, scaler\n",
    "\n",
    "\n",
    "def preprocess_labels(labels, encoder=None, categorical=True):\n",
    "    \"\"\"Encode labels with values among 0 and `n-classes-1`\"\"\"\n",
    "    if not encoder:\n",
    "        encoder = LabelEncoder()\n",
    "        encoder.fit(labels)\n",
    "    y = encoder.transform(labels).astype(np.int32)\n",
    "    if categorical:\n",
    "        y = np_utils.to_categorical(y)\n",
    "    return y, encoder"
   ]
  },
  {
   "cell_type": "code",
   "execution_count": 5,
   "metadata": {
    "collapsed": false
   },
   "outputs": [
    {
     "name": "stdout",
     "output_type": "stream",
     "text": [
      "Loading data...\n",
      "[[  0.   0.   0.   0.   0.   0.   0.   0.   0.   3.   0.   0.   0.   3.\n",
      "    2.   1.   0.   0.   0.   0.   0.   0.   0.   5.   3.   1.   1.   0.\n",
      "    0.   0.   0.   0.   1.   0.   0.   1.   0.   1.   0.   1.   0.   0.\n",
      "    0.   0.   0.   0.   0.   0.   0.   0.   0.   0.   0.   0.   0.   0.\n",
      "    0.   0.   0.   0.   0.   0.   0.   3.   0.   0.   0.   0.   1.   1.\n",
      "    0.   1.   0.   0.   0.   0.   0.   0.   0.   0.   0.   0.   0.   0.\n",
      "    0.  11.   1.  20.   0.   0.   0.   0.   0.]]\n",
      "9 classes\n",
      "93 dims\n"
     ]
    }
   ],
   "source": [
    "print(\"Loading data...\")\n",
    "X, labels = load_data('/home/ubuntu/deep-learning-keras-tensorflow/data/train.csv', train=True)\n",
    "X, scaler = preprocess_data(X)\n",
    "Y, encoder = preprocess_labels(labels)\n",
    "\n",
    "\n",
    "X_test, ids = load_data('/home/ubuntu/deep-learning-keras-tensorflow/data/test.csv', train=False)\n",
    "X_test, ids = X_test[:1000], ids[:1000]\n",
    "\n",
    "#Plotting the data\n",
    "print(X_test[:1])\n",
    "\n",
    "X_test, _ = preprocess_data(X_test, scaler)\n",
    "\n",
    "\n",
    "nb_classes = Y.shape[1]\n",
    "print(nb_classes, 'classes')\n",
    "\n",
    "dims = X.shape[1]\n",
    "print(dims, 'dims')"
   ]
  },
  {
   "cell_type": "markdown",
   "metadata": {},
   "source": [
    "Now lets create and train a logistic regression model."
   ]
  },
  {
   "cell_type": "markdown",
   "metadata": {},
   "source": [
    "---"
   ]
  },
  {
   "cell_type": "markdown",
   "metadata": {},
   "source": [
    "# Keras\n",
    "\n",
    "## Deep Learning library for Theano and TensorFlow"
   ]
  },
  {
   "cell_type": "markdown",
   "metadata": {},
   "source": [
    "Keras is a minimalist, highly modular neural networks library, written in Python and capable of running on top of either TensorFlow or Theano. It was developed with a focus on enabling fast experimentation. Being able to go from idea to result with the least possible delay is key to doing good research.\n",
    "ref: https://keras.io/"
   ]
  },
  {
   "cell_type": "markdown",
   "metadata": {},
   "source": [
    "## Why this name, Keras?\n",
    "\n",
    "Keras (κέρας) means _horn_ in Greek. It is a reference to a literary image from ancient Greek and Latin literature, first found in the _Odyssey_, where dream spirits (_Oneiroi_, singular _Oneiros_) are divided between those who deceive men with false visions, who arrive to Earth through a gate of ivory, and those who announce a future that will come to pass, who arrive through a gate of horn. It's a play on the words κέρας (horn) / κραίνω (fulfill), and ἐλέφας (ivory) / ἐλεφαίρομαι (deceive).\n",
    "\n",
    "Keras was initially developed as part of the research effort of project ONEIROS (Open-ended Neuro-Electronic Intelligent Robot Operating System).\n",
    "\n",
    ">_\"Oneiroi are beyond our unravelling --who can be sure what tale they tell? Not all that men look for comes to pass. Two gates there are that give passage to fleeting Oneiroi; one is made of horn, one of ivory. The Oneiroi that pass through sawn ivory are deceitful, bearing a message that will not be fulfilled; those that come out through polished horn have truth behind them, to be accomplished for men who see them.\"_ Homer, Odyssey 19. 562 ff (Shewring translation)."
   ]
  },
  {
   "cell_type": "markdown",
   "metadata": {},
   "source": [
    "## Hands On - Keras Logistic Regression\n"
   ]
  },
  {
   "cell_type": "code",
   "execution_count": 6,
   "metadata": {
    "collapsed": false
   },
   "outputs": [
    {
     "name": "stdout",
     "output_type": "stream",
     "text": [
      "93 dims\n",
      "Building model...\n",
      "9 classes\n",
      "Epoch 1/1\n",
      "61878/61878 [==============================] - 4s 68us/step - loss: 1.0420\n"
     ]
    },
    {
     "data": {
      "text/plain": [
       "<keras.callbacks.History at 0x7fde4006bfd0>"
      ]
     },
     "execution_count": 6,
     "metadata": {},
     "output_type": "execute_result"
    }
   ],
   "source": [
    "dims = X.shape[1] #number of features in our data  - 93\n",
    "print(dims, 'dims')\n",
    "print(\"Building model...\")\n",
    "\n",
    "nb_classes = Y.shape[1] #number of classes in our data - 9\n",
    "print(nb_classes, 'classes')\n",
    "\n",
    "model = Sequential() #intialize a model\n",
    "model.add(Dense(nb_classes, input_shape=(dims,))) #add a fully connected layer with 9 neurons\n",
    "model.add(Activation('softmax')) #add softmax activation\n",
    "model.compile(optimizer='sgd', loss='categorical_crossentropy') #add the sgd optimizer to optimize our model \n",
    "model.fit(X, Y) #start optimizing "
   ]
  },
  {
   "cell_type": "code",
   "execution_count": 7,
   "metadata": {
    "collapsed": true
   },
   "outputs": [],
   "source": [
    "train_predictions = model.predict(X).argmax(axis=1)"
   ]
  },
  {
   "cell_type": "code",
   "execution_count": 8,
   "metadata": {
    "collapsed": false
   },
   "outputs": [
    {
     "name": "stdout",
     "output_type": "stream",
     "text": [
      "train accuracy is 0.7268172856265555\n"
     ]
    }
   ],
   "source": [
    "print('train accuracy is {0}'.format(sum(Y.argmax(axis=1)==train_predictions)/train_predictions.shape[0]))"
   ]
  },
  {
   "cell_type": "markdown",
   "metadata": {},
   "source": [
    "Simplicity is pretty impressive right? :)"
   ]
  },
  {
   "cell_type": "markdown",
   "metadata": {},
   "source": [
    "Now lets understand:\n",
    "<pre>The core data structure of Keras is a <b>model</b>, a way to organize layers. The main type of model is the <b>Sequential</b> model, a linear stack of layers.</pre>\n"
   ]
  },
  {
   "cell_type": "markdown",
   "metadata": {},
   "source": [
    "What we did here is stacking a Fully Connected (<b>Dense</b>) layer of trainable weights from the input to the output and an <b>Activation</b> layer on top of the weights layer."
   ]
  },
  {
   "cell_type": "markdown",
   "metadata": {},
   "source": [
    "##### Dense"
   ]
  },
  {
   "cell_type": "markdown",
   "metadata": {
    "collapsed": true
   },
   "source": [
    "```python\n",
    "from keras.layers.core import Dense\n",
    "\n",
    "Dense(output_dim, init='glorot_uniform', activation='linear', \n",
    "      weights=None, W_regularizer=None, b_regularizer=None,\n",
    "      activity_regularizer=None, W_constraint=None, \n",
    "      b_constraint=None, bias=True, input_dim=None)\n",
    "```"
   ]
  },
  {
   "cell_type": "markdown",
   "metadata": {},
   "source": [
    "##### Activation"
   ]
  },
  {
   "cell_type": "markdown",
   "metadata": {
    "collapsed": true
   },
   "source": [
    "```python\n",
    "from keras.layers.core import Activation\n",
    "\n",
    "Activation(activation)\n",
    "```"
   ]
  },
  {
   "cell_type": "markdown",
   "metadata": {},
   "source": [
    "##### Optimizer"
   ]
  },
  {
   "cell_type": "markdown",
   "metadata": {},
   "source": [
    "If you need to, you can further configure your optimizer. A core principle of Keras is to make things reasonably simple, while allowing the user to be fully in control when they need to (the ultimate control being the easy extensibility of the source code).\n",
    "Here we used <b>SGD</b> (stochastic gradient descent) as an optimization algorithm for our trainable weights.  "
   ]
  },
  {
   "cell_type": "markdown",
   "metadata": {},
   "source": [
    "\"Data Sciencing\" this example a little bit more\n",
    "====="
   ]
  },
  {
   "cell_type": "markdown",
   "metadata": {},
   "source": [
    "What we did here is nice, however in the real world it is not useable because of overfitting.\n",
    "Lets try and solve it with cross validation."
   ]
  },
  {
   "cell_type": "markdown",
   "metadata": {},
   "source": [
    "##### Overfitting"
   ]
  },
  {
   "cell_type": "markdown",
   "metadata": {},
   "source": [
    "In overfitting, a statistical model describes random error or noise instead of the underlying relationship. Overfitting occurs when a model is excessively complex, such as having too many parameters relative to the number of observations. \n",
    "\n",
    "A model that has been overfit has poor predictive performance, as it overreacts to minor fluctuations in the training data."
   ]
  },
  {
   "cell_type": "markdown",
   "metadata": {},
   "source": [
    "\n",
    "<img src =\"imgs/overfitting.png\">"
   ]
  },
  {
   "cell_type": "markdown",
   "metadata": {},
   "source": [
    "<pre>To avoid overfitting, we will first split out data to training set and test set and test out model on the test set.\n",
    "Next: we will use two of keras's callbacks <b>EarlyStopping</b> and <b>ModelCheckpoint</b></pre>"
   ]
  },
  {
   "cell_type": "code",
   "execution_count": 9,
   "metadata": {
    "collapsed": false,
    "scrolled": false
   },
   "outputs": [
    {
     "name": "stdout",
     "output_type": "stream",
     "text": [
      "Train on 52596 samples, validate on 9282 samples\n",
      "Epoch 1/20\n",
      " 7040/52596 [===>..........................] - ETA: 1s - loss: 0.8034"
     ]
    },
    {
     "name": "stderr",
     "output_type": "stream",
     "text": [
      "/home/ubuntu/anaconda2/envs/deep-learning/lib/python3.5/site-packages/keras/models.py:939: UserWarning: The `nb_epoch` argument in `fit` has been renamed `epochs`.\n",
      "  warnings.warn('The `nb_epoch` argument in `fit` '\n"
     ]
    },
    {
     "name": "stdout",
     "output_type": "stream",
     "text": [
      "52596/52596 [==============================] - 2s 30us/step - loss: 0.8001 - val_loss: 0.7943\n",
      "Epoch 2/20\n",
      "52596/52596 [==============================] - 1s 28us/step - loss: 0.7811 - val_loss: 0.7786\n",
      "Epoch 3/20\n",
      "52596/52596 [==============================] - 1s 28us/step - loss: 0.7666 - val_loss: 0.7663\n",
      "Epoch 4/20\n",
      "52596/52596 [==============================] - 1s 28us/step - loss: 0.7551 - val_loss: 0.7561\n",
      "Epoch 5/20\n",
      "52596/52596 [==============================] - 1s 27us/step - loss: 0.7457 - val_loss: 0.7477\n",
      "Epoch 6/20\n",
      "52596/52596 [==============================] - 2s 30us/step - loss: 0.7377 - val_loss: 0.7406\n",
      "Epoch 7/20\n",
      "52596/52596 [==============================] - 2s 31us/step - loss: 0.7309 - val_loss: 0.7343\n",
      "Epoch 8/20\n",
      "52596/52596 [==============================] - 2s 30us/step - loss: 0.7250 - val_loss: 0.7289\n",
      "Epoch 9/20\n",
      "52596/52596 [==============================] - 2s 33us/step - loss: 0.7197 - val_loss: 0.7242\n",
      "Epoch 10/20\n",
      "52596/52596 [==============================] - 2s 32us/step - loss: 0.7151 - val_loss: 0.7199\n",
      "Epoch 11/20\n",
      "52596/52596 [==============================] - 2s 31us/step - loss: 0.7109 - val_loss: 0.7160\n",
      "Epoch 12/20\n",
      "52596/52596 [==============================] - 2s 31us/step - loss: 0.7071 - val_loss: 0.7126\n",
      "Epoch 13/20\n",
      "52596/52596 [==============================] - 2s 29us/step - loss: 0.7037 - val_loss: 0.7094\n",
      "Epoch 14/20\n",
      "52596/52596 [==============================] - 2s 30us/step - loss: 0.7006 - val_loss: 0.7065\n",
      "Epoch 15/20\n",
      "52596/52596 [==============================] - 2s 31us/step - loss: 0.6978 - val_loss: 0.7039\n",
      "Epoch 16/20\n",
      "52596/52596 [==============================] - 2s 30us/step - loss: 0.6951 - val_loss: 0.7014\n",
      "Epoch 17/20\n",
      "52596/52596 [==============================] - 2s 32us/step - loss: 0.6926 - val_loss: 0.6991\n",
      "Epoch 18/20\n",
      "52596/52596 [==============================] - 2s 30us/step - loss: 0.6903 - val_loss: 0.6972\n",
      "Epoch 19/20\n",
      "52596/52596 [==============================] - 2s 31us/step - loss: 0.6882 - val_loss: 0.6953\n",
      "Epoch 20/20\n",
      "52596/52596 [==============================] - 2s 31us/step - loss: 0.6863 - val_loss: 0.6933\n"
     ]
    },
    {
     "data": {
      "text/plain": [
       "<keras.callbacks.History at 0x7fde4007fda0>"
      ]
     },
     "execution_count": 9,
     "metadata": {},
     "output_type": "execute_result"
    }
   ],
   "source": [
    "X_train, X_val, Y_train, Y_val = train_test_split(X, Y, test_size=0.15, random_state=42)\n",
    "\n",
    "fBestModel = 'best_model.h5' \n",
    "early_stop = EarlyStopping(monitor='val_loss', patience=4, verbose=1) \n",
    "best_model = ModelCheckpoint(fBestModel, verbose=0, save_best_only=True)\n",
    "model.fit(X_train, Y_train, validation_data = (X_val, Y_val), nb_epoch=20, \n",
    "          batch_size=128, verbose=True, validation_split=0.15, \n",
    "          callbacks=[best_model, early_stop])"
   ]
  },
  {
   "cell_type": "code",
   "execution_count": 10,
   "metadata": {
    "collapsed": false
   },
   "outputs": [
    {
     "name": "stdout",
     "output_type": "stream",
     "text": [
      "train accuracy is 0.7525667351129364\n"
     ]
    }
   ],
   "source": [
    "train_predictions = model.predict(X_train).argmax(axis=1)\n",
    "print('train accuracy is {0}'.format(sum(Y_train.argmax(axis=1)==train_predictions)/train_predictions.shape[0]))"
   ]
  },
  {
   "cell_type": "code",
   "execution_count": 11,
   "metadata": {
    "collapsed": false
   },
   "outputs": [
    {
     "name": "stdout",
     "output_type": "stream",
     "text": [
      "test accuracy is 0.7475759534583064\n"
     ]
    }
   ],
   "source": [
    "val_predictions = model.predict(X_val).argmax(axis=1)\n",
    "print('test accuracy is {0}'.format(sum(Y_val.argmax(axis=1)==val_predictions)/val_predictions.shape[0]))"
   ]
  },
  {
   "cell_type": "markdown",
   "metadata": {},
   "source": [
    "## Multi-Layer Perceptron and Fully Connected"
   ]
  },
  {
   "cell_type": "markdown",
   "metadata": {},
   "source": [
    "So, how hard can it be to build a Multi-Layer percepton with keras?\n",
    "It is baiscly the same, just add more layers!"
   ]
  },
  {
   "cell_type": "code",
   "execution_count": 12,
   "metadata": {
    "collapsed": false
   },
   "outputs": [
    {
     "name": "stderr",
     "output_type": "stream",
     "text": [
      "/home/ubuntu/anaconda2/envs/deep-learning/lib/python3.5/site-packages/keras/models.py:939: UserWarning: The `nb_epoch` argument in `fit` has been renamed `epochs`.\n",
      "  warnings.warn('The `nb_epoch` argument in `fit` '\n"
     ]
    },
    {
     "name": "stdout",
     "output_type": "stream",
     "text": [
      "Train on 52596 samples, validate on 9282 samples\n",
      "Epoch 1/20\n",
      "52596/52596 [==============================] - 3s 49us/step - loss: 1.2104 - val_loss: 0.8916\n",
      "Epoch 2/20\n",
      "52596/52596 [==============================] - 2s 43us/step - loss: 0.8257 - val_loss: 0.7924\n",
      "Epoch 3/20\n",
      "52596/52596 [==============================] - 3s 49us/step - loss: 0.7629 - val_loss: 0.7509\n",
      "Epoch 4/20\n",
      "52596/52596 [==============================] - 3s 53us/step - loss: 0.7318 - val_loss: 0.7282\n",
      "Epoch 5/20\n",
      "52596/52596 [==============================] - 2s 44us/step - loss: 0.7126 - val_loss: 0.7131\n",
      "Epoch 6/20\n",
      "52596/52596 [==============================] - 2s 46us/step - loss: 0.6996 - val_loss: 0.7023\n",
      "Epoch 7/20\n",
      "52596/52596 [==============================] - 2s 45us/step - loss: 0.6902 - val_loss: 0.6940\n",
      "Epoch 8/20\n",
      "52596/52596 [==============================] - 2s 48us/step - loss: 0.6828 - val_loss: 0.6888\n",
      "Epoch 9/20\n",
      "52596/52596 [==============================] - 2s 44us/step - loss: 0.6770 - val_loss: 0.6841\n",
      "Epoch 10/20\n",
      "52596/52596 [==============================] - 2s 47us/step - loss: 0.6722 - val_loss: 0.6813\n",
      "Epoch 11/20\n",
      "52596/52596 [==============================] - 2s 45us/step - loss: 0.6684 - val_loss: 0.6762\n",
      "Epoch 12/20\n",
      "52596/52596 [==============================] - 2s 45us/step - loss: 0.6651 - val_loss: 0.6733\n",
      "Epoch 13/20\n",
      "52596/52596 [==============================] - 3s 52us/step - loss: 0.6623 - val_loss: 0.6713\n",
      "Epoch 14/20\n",
      "52596/52596 [==============================] - 3s 49us/step - loss: 0.6598 - val_loss: 0.6688\n",
      "Epoch 15/20\n",
      "52596/52596 [==============================] - 2s 45us/step - loss: 0.6575 - val_loss: 0.6673\n",
      "Epoch 16/20\n",
      "52596/52596 [==============================] - 2s 45us/step - loss: 0.6557 - val_loss: 0.6650\n",
      "Epoch 17/20\n",
      "52596/52596 [==============================] - 3s 51us/step - loss: 0.6539 - val_loss: 0.6646\n",
      "Epoch 18/20\n",
      "52596/52596 [==============================] - 3s 50us/step - loss: 0.6525 - val_loss: 0.6630\n",
      "Epoch 19/20\n",
      "52596/52596 [==============================] - 3s 50us/step - loss: 0.6510 - val_loss: 0.6627\n",
      "Epoch 20/20\n",
      "52596/52596 [==============================] - 3s 50us/step - loss: 0.6497 - val_loss: 0.6608\n"
     ]
    },
    {
     "data": {
      "text/plain": [
       "<keras.callbacks.History at 0x7fde330a0978>"
      ]
     },
     "execution_count": 12,
     "metadata": {},
     "output_type": "execute_result"
    }
   ],
   "source": [
    "model = Sequential()\n",
    "model.add(Dense(100, input_shape=(dims,)))\n",
    "model.add(Dense(nb_classes))\n",
    "model.add(Activation('softmax'))\n",
    "model.compile(optimizer='sgd', loss='categorical_crossentropy')\n",
    "model.fit(X_train, Y_train, validation_data = (X_val, Y_val), nb_epoch=20, \n",
    "          batch_size=128, verbose=True, validation_split=0.15, \n",
    "          callbacks=[best_model, early_stop]) "
   ]
  },
  {
   "cell_type": "code",
   "execution_count": 13,
   "metadata": {
    "collapsed": false
   },
   "outputs": [
    {
     "name": "stdout",
     "output_type": "stream",
     "text": [
      "train accuracy is 0.7612175830861663\n"
     ]
    }
   ],
   "source": [
    "train_predictions = model.predict(X_train).argmax(axis=1)\n",
    "print('train accuracy is {0}'.format(sum(Y_train.argmax(axis=1)==train_predictions)/train_predictions.shape[0]))"
   ]
  },
  {
   "cell_type": "code",
   "execution_count": 14,
   "metadata": {
    "collapsed": false
   },
   "outputs": [
    {
     "name": "stdout",
     "output_type": "stream",
     "text": [
      "test accuracy is 0.7560870502046972\n"
     ]
    }
   ],
   "source": [
    "val_predictions = model.predict(X_val).argmax(axis=1)\n",
    "print('test accuracy is {0}'.format(sum(Y_val.argmax(axis=1)==val_predictions)/val_predictions.shape[0]))"
   ]
  },
  {
   "cell_type": "markdown",
   "metadata": {},
   "source": [
    "Your Turn!"
   ]
  },
  {
   "cell_type": "markdown",
   "metadata": {},
   "source": [
    "## Hands On - Keras Fully Connected\n"
   ]
  },
  {
   "cell_type": "markdown",
   "metadata": {},
   "source": [
    "Take couple of minutes and Try and optimize the number of layers and the number of parameters in the layers to get the best results. "
   ]
  },
  {
   "cell_type": "code",
   "execution_count": 15,
   "metadata": {
    "collapsed": false,
    "scrolled": true
   },
   "outputs": [
    {
     "name": "stderr",
     "output_type": "stream",
     "text": [
      "/home/ubuntu/anaconda2/envs/deep-learning/lib/python3.5/site-packages/keras/models.py:939: UserWarning: The `nb_epoch` argument in `fit` has been renamed `epochs`.\n",
      "  warnings.warn('The `nb_epoch` argument in `fit` '\n"
     ]
    },
    {
     "name": "stdout",
     "output_type": "stream",
     "text": [
      "Train on 52596 samples, validate on 9282 samples\n",
      "Epoch 1/50\n",
      "52596/52596 [==============================] - 14s 265us/step - loss: 0.8565 - val_loss: 0.7419\n",
      "Epoch 2/50\n",
      "52596/52596 [==============================] - 14s 258us/step - loss: 0.7112 - val_loss: 0.6945\n",
      "Epoch 3/50\n",
      "52596/52596 [==============================] - 14s 264us/step - loss: 0.6842 - val_loss: 0.6878\n",
      "Epoch 4/50\n",
      "52596/52596 [==============================] - 14s 263us/step - loss: 0.6711 - val_loss: 0.6720\n",
      "Epoch 5/50\n",
      "52596/52596 [==============================] - 14s 267us/step - loss: 0.6652 - val_loss: 0.6705\n",
      "Epoch 6/50\n",
      "52596/52596 [==============================] - 12s 227us/step - loss: 0.6602 - val_loss: 0.6661\n",
      "Epoch 7/50\n",
      "52596/52596 [==============================] - 13s 240us/step - loss: 0.6563 - val_loss: 0.6651\n",
      "Epoch 8/50\n",
      "52596/52596 [==============================] - 14s 263us/step - loss: 0.6531 - val_loss: 0.6633\n",
      "Epoch 9/50\n",
      "52596/52596 [==============================] - 13s 242us/step - loss: 0.6521 - val_loss: 0.6585\n",
      "Epoch 10/50\n",
      "52596/52596 [==============================] - 13s 242us/step - loss: 0.6502 - val_loss: 0.6615\n",
      "Epoch 11/50\n",
      "52596/52596 [==============================] - 12s 232us/step - loss: 0.6486 - val_loss: 0.6561\n",
      "Epoch 12/50\n",
      "52596/52596 [==============================] - 14s 261us/step - loss: 0.6472 - val_loss: 0.6587\n",
      "Epoch 13/50\n",
      "52596/52596 [==============================] - 13s 255us/step - loss: 0.6464 - val_loss: 0.6511\n",
      "Epoch 14/50\n",
      "52596/52596 [==============================] - 13s 245us/step - loss: 0.6456 - val_loss: 0.6520\n",
      "Epoch 15/50\n",
      "52596/52596 [==============================] - 13s 251us/step - loss: 0.6453 - val_loss: 0.6557\n",
      "Epoch 16/50\n",
      "52596/52596 [==============================] - 13s 242us/step - loss: 0.6442 - val_loss: 0.6552\n",
      "Epoch 17/50\n",
      "52596/52596 [==============================] - 13s 244us/step - loss: 0.6435 - val_loss: 0.6516\n",
      "Epoch 00017: early stopping\n"
     ]
    },
    {
     "data": {
      "text/plain": [
       "<keras.callbacks.History at 0x7fde32e119e8>"
      ]
     },
     "execution_count": 15,
     "metadata": {},
     "output_type": "execute_result"
    }
   ],
   "source": [
    "model = Sequential()\n",
    "model.add(Dense(100, input_shape=(dims,)))\n",
    "# Play with it! add as much layers as you want! try and get better results.\n",
    "model.add(Dense(100))\n",
    "model.add(Dense(512))\n",
    "model.add(Dense(512))\n",
    "model.add(Dense(100))\n",
    "model.add(Dense(nb_classes))\n",
    "\n",
    "model.add(Activation('softmax'))\n",
    "model.compile(optimizer='sgd', loss='categorical_crossentropy')\n",
    "model.fit(X_train, Y_train, validation_data = (X_val, Y_val), nb_epoch=50, \n",
    "          batch_size=128, verbose=True, validation_split=0.15, \n",
    "          callbacks=[best_model, early_stop]) "
   ]
  },
  {
   "cell_type": "code",
   "execution_count": 16,
   "metadata": {
    "collapsed": false
   },
   "outputs": [
    {
     "name": "stdout",
     "output_type": "stream",
     "text": [
      "train accuracy is 0.7624195998577846\n"
     ]
    }
   ],
   "source": [
    "train_predictions = model.predict(X).argmax(axis=1)\n",
    "print('train accuracy is {0}'.format(sum(Y.argmax(axis=1)==train_predictions)/train_predictions.shape[0]))"
   ]
  },
  {
   "cell_type": "code",
   "execution_count": 17,
   "metadata": {
    "collapsed": false
   },
   "outputs": [
    {
     "name": "stdout",
     "output_type": "stream",
     "text": [
      "test accuracy is 0.7575953458306399\n"
     ]
    }
   ],
   "source": [
    "val_predictions = model.predict(X_val).argmax(axis=1)\n",
    "print('test accuracy is {0}'.format(sum(Y_val.argmax(axis=1)==val_predictions)/val_predictions.shape[0]))"
   ]
  },
  {
   "cell_type": "markdown",
   "metadata": {},
   "source": [
    "### Let's overfit it"
   ]
  },
  {
   "cell_type": "code",
   "execution_count": 18,
   "metadata": {
    "collapsed": false
   },
   "outputs": [
    {
     "name": "stderr",
     "output_type": "stream",
     "text": [
      "/home/ubuntu/anaconda2/envs/deep-learning/lib/python3.5/site-packages/keras/models.py:939: UserWarning: The `nb_epoch` argument in `fit` has been renamed `epochs`.\n",
      "  warnings.warn('The `nb_epoch` argument in `fit` '\n"
     ]
    },
    {
     "name": "stdout",
     "output_type": "stream",
     "text": [
      "Train on 52596 samples, validate on 9282 samples\n",
      "Epoch 1/30\n",
      "52596/52596 [==============================] - 35s 673us/step - loss: 0.7854 - val_loss: 0.6963\n",
      "Epoch 2/30\n",
      "52596/52596 [==============================] - 35s 674us/step - loss: 0.6808 - val_loss: 0.6738\n",
      "Epoch 3/30\n",
      "52596/52596 [==============================] - 36s 690us/step - loss: 0.6663 - val_loss: 0.6864\n",
      "Epoch 4/30\n",
      "52596/52596 [==============================] - 37s 705us/step - loss: 0.6603 - val_loss: 0.6671\n",
      "Epoch 5/30\n",
      "52596/52596 [==============================] - 36s 692us/step - loss: 0.6561 - val_loss: 0.6609\n",
      "Epoch 6/30\n",
      "52596/52596 [==============================] - 37s 696us/step - loss: 0.6541 - val_loss: 0.6638\n",
      "Epoch 7/30\n",
      "52596/52596 [==============================] - 33s 636us/step - loss: 0.6522 - val_loss: 0.6601\n",
      "Epoch 8/30\n",
      "52596/52596 [==============================] - 18s 341us/step - loss: 0.6506 - val_loss: 0.6547\n",
      "Epoch 9/30\n",
      "52596/52596 [==============================] - 14s 271us/step - loss: 0.6489 - val_loss: 0.6562\n",
      "Epoch 10/30\n",
      "52596/52596 [==============================] - 14s 269us/step - loss: 0.6474 - val_loss: 0.6570\n",
      "Epoch 11/30\n",
      "52596/52596 [==============================] - 14s 263us/step - loss: 0.6463 - val_loss: 0.6559\n",
      "Epoch 12/30\n",
      "52596/52596 [==============================] - 21s 403us/step - loss: 0.6440 - val_loss: 0.6516\n",
      "Epoch 13/30\n",
      "52596/52596 [==============================] - 17s 321us/step - loss: 0.6451 - val_loss: 0.6556\n",
      "Epoch 14/30\n",
      "52596/52596 [==============================] - 18s 338us/step - loss: 0.6450 - val_loss: 0.6517\n",
      "Epoch 15/30\n",
      "52596/52596 [==============================] - 16s 298us/step - loss: 0.6439 - val_loss: 0.6580\n",
      "Epoch 16/30\n",
      "52596/52596 [==============================] - 15s 286us/step - loss: 0.6438 - val_loss: 0.6520\n",
      "Epoch 17/30\n",
      "52596/52596 [==============================] - 15s 292us/step - loss: 0.6426 - val_loss: 0.6531\n",
      "Epoch 18/30\n",
      "52596/52596 [==============================] - 14s 268us/step - loss: 0.6428 - val_loss: 0.6543\n",
      "Epoch 19/30\n",
      "52596/52596 [==============================] - 15s 279us/step - loss: 0.6417 - val_loss: 0.6512\n",
      "Epoch 20/30\n",
      "52596/52596 [==============================] - 16s 308us/step - loss: 0.6412 - val_loss: 0.6477\n",
      "Epoch 21/30\n",
      "52596/52596 [==============================] - 14s 274us/step - loss: 0.6409 - val_loss: 0.6475\n",
      "Epoch 22/30\n",
      "52596/52596 [==============================] - 17s 317us/step - loss: 0.6407 - val_loss: 0.6481\n",
      "Epoch 23/30\n",
      "52596/52596 [==============================] - 16s 298us/step - loss: 0.6403 - val_loss: 0.6527\n",
      "Epoch 24/30\n",
      "52596/52596 [==============================] - 15s 292us/step - loss: 0.6396 - val_loss: 0.6502\n",
      "Epoch 25/30\n",
      "52596/52596 [==============================] - 14s 274us/step - loss: 0.6396 - val_loss: 0.6483\n",
      "Epoch 26/30\n",
      "52596/52596 [==============================] - 15s 282us/step - loss: 0.6391 - val_loss: 0.6561\n",
      "Epoch 27/30\n",
      "52596/52596 [==============================] - 15s 279us/step - loss: 0.6376 - val_loss: 0.6490\n",
      "Epoch 28/30\n",
      "52596/52596 [==============================] - 14s 266us/step - loss: 0.6382 - val_loss: 0.6546\n",
      "Epoch 29/30\n",
      "52596/52596 [==============================] - 17s 320us/step - loss: 0.6384 - val_loss: 0.6508\n",
      "Epoch 30/30\n",
      "52596/52596 [==============================] - 17s 318us/step - loss: 0.6385 - val_loss: 0.6528\n"
     ]
    }
   ],
   "source": [
    "model = Sequential()\n",
    "model.add(Dense(512, input_shape=(dims,)))\n",
    "# Play with it! add as much layers as you want! try and get better results.\n",
    "model.add(Dense(512))\n",
    "model.add(Dense(512))\n",
    "model.add(Dense(512))\n",
    "model.add(Dense(512))\n",
    "model.add(Dense(512))\n",
    "model.add(Dense(nb_classes))\n",
    "\n",
    "model.add(Activation('softmax'))\n",
    "model.compile(optimizer='sgd', loss='categorical_crossentropy')\n",
    "history = model.fit(X_train, Y_train, validation_data = (X_val, Y_val), nb_epoch=30, \n",
    "          batch_size=128, verbose=True, validation_split=0.15, ) "
   ]
  },
  {
   "cell_type": "code",
   "execution_count": 19,
   "metadata": {
    "collapsed": false
   },
   "outputs": [
    {
     "data": {
      "text/plain": [
       "<matplotlib.legend.Legend at 0x7fde326d68d0>"
      ]
     },
     "execution_count": 19,
     "metadata": {},
     "output_type": "execute_result"
    },
    {
     "data": {
      "image/png": "[encoded data removed]",
      "text/plain": [
       "<matplotlib.figure.Figure at 0x7fde37329710>"
      ]
     },
     "metadata": {},
     "output_type": "display_data"
    }
   ],
   "source": [
    "plt.plot(history.history['loss'])\n",
    "plt.plot(history.history['val_loss'])\n",
    "plt.title('model accuracy')\n",
    "plt.ylabel('accuracy')\n",
    "plt.xlabel('epoch')\n",
    "plt.legend(['train', 'test'], loc='upper left')"
   ]
  },
  {
   "cell_type": "markdown",
   "metadata": {},
   "source": [
    "Building a question answering system, an image classification model, a Neural Turing Machine, a word2vec embedder or any other model is just as fast. The ideas behind deep learning are simple, so why should their implementation be painful?"
   ]
  },
  {
   "cell_type": "markdown",
   "metadata": {},
   "source": [
    "#### Theoretical Motivations for depth"
   ]
  },
  {
   "cell_type": "markdown",
   "metadata": {},
   "source": [
    ">Much has been studied about the depth of neural nets. Is has been proven mathematically[1] and empirically that convolutional neural network benifit from depth! "
   ]
  },
  {
   "cell_type": "markdown",
   "metadata": {},
   "source": [
    "[1] - On the Expressive Power of Deep Learning: A Tensor Analysis - Cohen, et al 2015"
   ]
  },
  {
   "cell_type": "markdown",
   "metadata": {},
   "source": [
    "#### Theoretical Motivations for depth"
   ]
  },
  {
   "cell_type": "markdown",
   "metadata": {},
   "source": [
    "One much quoted theorem about neural network states that:"
   ]
  },
  {
   "cell_type": "markdown",
   "metadata": {},
   "source": [
    ">Universal approximation theorem states[1] that a feed-forward network with a single hidden layer containing a finite number of neurons (i.e., a multilayer perceptron), can approximate continuous functions on compact subsets of $\\mathbb{R}^n$, under mild assumptions on the activation function. The theorem thus states that simple neural networks can represent a wide variety of interesting functions when given appropriate parameters; however, it does not touch upon the algorithmic learnability of those parameters."
   ]
  },
  {
   "cell_type": "markdown",
   "metadata": {},
   "source": [
    "[1] - Approximation Capabilities of Multilayer Feedforward Networks - Kurt Hornik 1991"
   ]
  }
 ],
 "metadata": {
  "anaconda-cloud": {},
  "kernelspec": {
   "display_name": "Python 3",
   "language": "python",
   "name": "python3"
  },
  "language_info": {
   "codemirror_mode": {
    "name": "ipython",
    "version": 3
   },
   "file_extension": ".py",
   "mimetype": "text/x-python",
   "name": "python",
   "nbconvert_exporter": "python",
   "pygments_lexer": "ipython3",
   "version": "3.5.2"
  }
 },
 "nbformat": 4,
 "nbformat_minor": 1
}
