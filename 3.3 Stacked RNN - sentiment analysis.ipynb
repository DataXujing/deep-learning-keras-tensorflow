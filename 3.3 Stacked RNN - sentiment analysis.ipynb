{
 "cells": [
  {
   "cell_type": "markdown",
   "metadata": {
    "collapsed": false,
    "scrolled": true
   },
   "source": [
    "## Stacked RNN\n",
    "<img src =\"imgs/stacked_rnn.png\" width=\"45%\">"
   ]
  },
  {
   "cell_type": "code",
   "execution_count": 1,
   "metadata": {
    "collapsed": true
   },
   "outputs": [],
   "source": [
    "%matplotlib inline"
   ]
  },
  {
   "cell_type": "code",
   "execution_count": 2,
   "metadata": {
    "collapsed": false
   },
   "outputs": [
    {
     "name": "stderr",
     "output_type": "stream",
     "text": [
      "Using TensorFlow backend.\n",
      "/home/ubuntu/anaconda3/envs/deep-learning/lib/python3.5/site-packages/sklearn/cross_validation.py:44: DeprecationWarning: This module was deprecated in version 0.18 in favor of the model_selection module into which all the refactored classes and functions are moved. Also note that the interface of the new CV iterators are different from that of this module. This module will be removed in 0.20.\n",
      "  \"This module will be removed in 0.20.\", DeprecationWarning)\n"
     ]
    }
   ],
   "source": [
    "import numpy as np\n",
    "import pandas as pd\n",
    "import theano\n",
    "import theano.tensor as T\n",
    "import keras \n",
    "from keras.models import Sequential\n",
    "from keras.layers import Dense, Activation\n",
    "from keras.preprocessing import image\n",
    "from __future__ import print_function\n",
    "import numpy as np\n",
    "import matplotlib.pyplot as plt\n",
    "\n",
    "from keras.datasets import imdb\n",
    "from keras.datasets import mnist\n",
    "from keras.models import Sequential\n",
    "from keras.layers import Dense, Dropout, Activation, Flatten\n",
    "from keras.layers import Convolution2D, MaxPooling2D\n",
    "from keras.utils import np_utils\n",
    "from keras.preprocessing import sequence\n",
    "from keras.layers.embeddings import Embedding\n",
    "from keras.layers.recurrent import LSTM, GRU, SimpleRNN\n",
    "from sklearn.preprocessing import LabelEncoder\n",
    "from sklearn.preprocessing import StandardScaler\n",
    "from sklearn.cross_validation import train_test_split\n",
    "from keras.layers.core import Activation, TimeDistributedDense, RepeatVector\n",
    "from keras.callbacks import EarlyStopping, ModelCheckpoint\n",
    "\n",
    "import tensorflow as tf\n",
    "\n",
    "tf.python.control_flow_ops = tf"
   ]
  },
  {
   "cell_type": "markdown",
   "metadata": {},
   "source": [
    "#### IMDB sentiment classification task"
   ]
  },
  {
   "cell_type": "markdown",
   "metadata": {},
   "source": [
    "This is a dataset for binary sentiment classification containing substantially more data than previous benchmark datasets. \n",
    "\n",
    "IMDB provided a set of 25,000 highly polar movie reviews for training, and 25,000 for testing. \n",
    "\n",
    "There is additional unlabeled data for use as well. Raw text and already processed bag of words formats are provided. \n",
    "\n",
    "http://ai.stanford.edu/~amaas/data/sentiment/"
   ]
  },
  {
   "cell_type": "markdown",
   "metadata": {},
   "source": [
    "#### Data Preparation - IMDB"
   ]
  },
  {
   "cell_type": "code",
   "execution_count": 3,
   "metadata": {
    "collapsed": false
   },
   "outputs": [
    {
     "name": "stdout",
     "output_type": "stream",
     "text": [
      "Loading data...\n",
      "25000 train sequences\n",
      "25000 test sequences\n",
      "Example:\n",
      "[1, 14, 22, 16, 43, 530, 973, 1622, 1385, 65, 458, 4468, 66, 3941, 4, 173, 36, 256, 5, 25, 100, 43, 838, 112, 50, 670, 2, 9, 35, 480, 284, 5, 150, 4, 172, 112, 167, 2, 336, 385, 39, 4, 172, 4536, 1111, 17, 546, 38, 13, 447, 4, 192, 50, 16, 6, 147, 2025, 19, 14, 22, 4, 1920, 4613, 469, 4, 22, 71, 87, 12, 16, 43, 530, 38, 76, 15, 13, 1247, 4, 22, 17, 515, 17, 12, 16, 626, 18, 19193, 5, 62, 386, 12, 8, 316, 8, 106, 5, 4, 2223, 5244, 16, 480, 66, 3785, 33, 4, 130, 12, 16, 38, 619, 5, 25, 124, 51, 36, 135, 48, 25, 1415, 33, 6, 22, 12, 215, 28, 77, 52, 5, 14, 407, 16, 82, 10311, 8, 4, 107, 117, 5952, 15, 256, 4, 2, 7, 3766, 5, 723, 36, 71, 43, 530, 476, 26, 400, 317, 46, 7, 4, 12118, 1029, 13, 104, 88, 4, 381, 15, 297, 98, 32, 2071, 56, 26, 141, 6, 194, 7486, 18, 4, 226, 22, 21, 134, 476, 26, 480, 5, 144, 30, 5535, 18, 51, 36, 28, 224, 92, 25, 104, 4, 226, 65, 16, 38, 1334, 88, 12, 16, 283, 5, 16, 4472, 113, 103, 32, 15, 16, 5345, 19, 178, 32]\n",
      "Pad sequences (samples x time)\n",
      "X_train shape: (25000, 100)\n",
      "X_test shape: (25000, 100)\n"
     ]
    }
   ],
   "source": [
    "max_features = 20000\n",
    "maxlen = 100  # cut texts after this number of words (among top max_features most common words)\n",
    "batch_size = 32\n",
    "\n",
    "print(\"Loading data...\")\n",
    "# (X_train, y_train), (X_test, y_test) = imdb.load_data(nb_words=max_features, test_split=0.2)\n",
    "(X_train, y_train), (X_test, y_test) = imdb.load_data(nb_words=max_features)\n",
    "\n",
    "print(len(X_train), 'train sequences')\n",
    "print(len(X_test), 'test sequences')\n",
    "\n",
    "print('Example:')\n",
    "print(X_train[0])\n",
    "\n",
    "print(\"Pad sequences (samples x time)\")\n",
    "X_train = sequence.pad_sequences(X_train, maxlen=maxlen)\n",
    "X_test = sequence.pad_sequences(X_test, maxlen=maxlen)\n",
    "print('X_train shape:', X_train.shape)\n",
    "print('X_test shape:', X_test.shape)\n",
    "\n",
    "max_epoch = 50"
   ]
  },
  {
   "cell_type": "markdown",
   "metadata": {},
   "source": [
    "#### Model building "
   ]
  },
  {
   "cell_type": "code",
   "execution_count": 4,
   "metadata": {
    "collapsed": false
   },
   "outputs": [
    {
     "name": "stdout",
     "output_type": "stream",
     "text": [
      "Build model...\n",
      "Train...\n",
      "Train on 25000 samples, validate on 25000 samples\n",
      "Epoch 1/50\n",
      "25000/25000 [==============================] - 651s - loss: 0.4468 - acc: 0.7870 - val_loss: 0.3594 - val_acc: 0.8458\n",
      "Epoch 2/50\n",
      "25000/25000 [==============================] - 634s - loss: 0.2486 - acc: 0.9031 - val_loss: 0.3979 - val_acc: 0.8383\n",
      "Epoch 3/50\n",
      "25000/25000 [==============================] - 603s - loss: 0.1399 - acc: 0.9502 - val_loss: 0.4338 - val_acc: 0.8343\n",
      "Epoch 4/50\n",
      "25000/25000 [==============================] - 575s - loss: 0.0947 - acc: 0.9682 - val_loss: 0.5002 - val_acc: 0.8204\n",
      "Epoch 5/50\n",
      "25000/25000 [==============================] - 579s - loss: 0.0583 - acc: 0.9804 - val_loss: 0.6506 - val_acc: 0.8243\n",
      "Epoch 6/50\n",
      "25000/25000 [==============================] - 596s - loss: 0.0378 - acc: 0.9884 - val_loss: 0.6291 - val_acc: 0.8307\n",
      "Epoch 7/50\n",
      "25000/25000 [==============================] - 611s - loss: 0.0298 - acc: 0.9903 - val_loss: 0.8337 - val_acc: 0.7847\n",
      "Epoch 8/50\n",
      "25000/25000 [==============================] - 586s - loss: 0.0348 - acc: 0.9890 - val_loss: 0.7465 - val_acc: 0.8348\n",
      "Epoch 9/50\n",
      "25000/25000 [==============================] - 572s - loss: 0.0224 - acc: 0.9930 - val_loss: 0.8133 - val_acc: 0.8185\n",
      "Epoch 10/50\n",
      "25000/25000 [==============================] - 606s - loss: 0.0207 - acc: 0.9935 - val_loss: 0.8429 - val_acc: 0.8320\n",
      "Epoch 11/50\n",
      "25000/25000 [==============================] - 605s - loss: 0.0201 - acc: 0.9941 - val_loss: 0.8199 - val_acc: 0.8197\n",
      "Epoch 12/50\n",
      "25000/25000 [==============================] - 603s - loss: 0.0188 - acc: 0.9941 - val_loss: 0.9247 - val_acc: 0.8201\n",
      "Epoch 13/50\n",
      "25000/25000 [==============================] - 604s - loss: 0.0176 - acc: 0.9941 - val_loss: 0.8106 - val_acc: 0.8080\n",
      "Epoch 14/50\n",
      "25000/25000 [==============================] - 601s - loss: 0.0115 - acc: 0.9962 - val_loss: 0.9802 - val_acc: 0.8281\n",
      "Epoch 15/50\n",
      "25000/25000 [==============================] - 604s - loss: 0.0063 - acc: 0.9977 - val_loss: 1.1600 - val_acc: 0.8269\n",
      "Epoch 16/50\n",
      "25000/25000 [==============================] - 617s - loss: 0.0111 - acc: 0.9965 - val_loss: 0.9804 - val_acc: 0.8167\n",
      "Epoch 17/50\n",
      "25000/25000 [==============================] - 622s - loss: 0.0078 - acc: 0.9977 - val_loss: 1.1683 - val_acc: 0.8234\n",
      "Epoch 18/50\n",
      "25000/25000 [==============================] - 613s - loss: 0.0050 - acc: 0.9984 - val_loss: 0.9828 - val_acc: 0.8242\n",
      "Epoch 19/50\n",
      "25000/25000 [==============================] - 611s - loss: 0.0082 - acc: 0.9976 - val_loss: 1.1002 - val_acc: 0.8188\n",
      "Epoch 20/50\n",
      "25000/25000 [==============================] - 628s - loss: 0.0061 - acc: 0.9983 - val_loss: 1.0954 - val_acc: 0.8208\n",
      "Epoch 21/50\n",
      "25000/25000 [==============================] - 619s - loss: 0.0073 - acc: 0.9978 - val_loss: 1.0267 - val_acc: 0.8242\n",
      "Epoch 22/50\n",
      "25000/25000 [==============================] - 626s - loss: 0.0090 - acc: 0.9975 - val_loss: 1.0165 - val_acc: 0.8237\n",
      "Epoch 23/50\n",
      "25000/25000 [==============================] - 642s - loss: 0.0035 - acc: 0.9991 - val_loss: 1.2027 - val_acc: 0.8252\n",
      "Epoch 24/50\n",
      "25000/25000 [==============================] - 636s - loss: 0.0033 - acc: 0.9992 - val_loss: 0.9936 - val_acc: 0.8144\n",
      "Epoch 25/50\n",
      "25000/25000 [==============================] - 556s - loss: 0.0083 - acc: 0.9976 - val_loss: 0.9859 - val_acc: 0.8198\n",
      "Epoch 26/50\n",
      "25000/25000 [==============================] - 648s - loss: 0.0016 - acc: 0.9995 - val_loss: 1.4485 - val_acc: 0.8240\n",
      "Epoch 27/50\n",
      "25000/25000 [==============================] - 659s - loss: 0.0029 - acc: 0.9993 - val_loss: 1.2137 - val_acc: 0.8210\n",
      "Epoch 28/50\n",
      "25000/25000 [==============================] - 674s - loss: 0.0032 - acc: 0.9992 - val_loss: 1.3686 - val_acc: 0.8224\n",
      "Epoch 29/50\n",
      "25000/25000 [==============================] - 719s - loss: 0.0034 - acc: 0.9989 - val_loss: 1.2408 - val_acc: 0.8133\n",
      "Epoch 30/50\n",
      "25000/25000 [==============================] - 718s - loss: 0.0056 - acc: 0.9985 - val_loss: 1.1101 - val_acc: 0.8229\n",
      "Epoch 31/50\n",
      "25000/25000 [==============================] - 706s - loss: 0.0046 - acc: 0.9987 - val_loss: 1.2630 - val_acc: 0.8212\n",
      "Epoch 32/50\n",
      "25000/25000 [==============================] - 697s - loss: 0.0035 - acc: 0.9990 - val_loss: 1.2656 - val_acc: 0.8250\n",
      "Epoch 33/50\n",
      "25000/25000 [==============================] - 702s - loss: 9.6652e-04 - acc: 0.9998 - val_loss: 1.5404 - val_acc: 0.8229\n",
      "Epoch 34/50\n",
      "25000/25000 [==============================] - 739s - loss: 3.4000e-04 - acc: 1.0000 - val_loss: 1.6016 - val_acc: 0.8219\n",
      "Epoch 35/50\n",
      "25000/25000 [==============================] - 718s - loss: 3.1118e-04 - acc: 1.0000 - val_loss: 1.6734 - val_acc: 0.8209\n",
      "Epoch 36/50\n",
      "25000/25000 [==============================] - 732s - loss: 3.2070e-04 - acc: 1.0000 - val_loss: 1.7011 - val_acc: 0.8225\n",
      "Epoch 37/50\n",
      "25000/25000 [==============================] - 725s - loss: 2.5685e-04 - acc: 1.0000 - val_loss: 1.7602 - val_acc: 0.8201\n",
      "Epoch 38/50\n",
      "25000/25000 [==============================] - 740s - loss: 0.0080 - acc: 0.9976 - val_loss: 1.1910 - val_acc: 0.8213\n",
      "Epoch 39/50\n",
      "25000/25000 [==============================] - 726s - loss: 0.0048 - acc: 0.9982 - val_loss: 1.3445 - val_acc: 0.8092\n",
      "Epoch 40/50\n",
      "25000/25000 [==============================] - 687s - loss: 0.0018 - acc: 0.9994 - val_loss: 1.2607 - val_acc: 0.8178\n",
      "Epoch 41/50\n",
      "25000/25000 [==============================] - 679s - loss: 0.0012 - acc: 0.9998 - val_loss: 1.3767 - val_acc: 0.8230\n",
      "Epoch 42/50\n",
      "25000/25000 [==============================] - 519s - loss: 0.0028 - acc: 0.9993 - val_loss: 1.4756 - val_acc: 0.8192\n",
      "Epoch 43/50\n",
      "25000/25000 [==============================] - 380s - loss: 0.0020 - acc: 0.9994 - val_loss: 1.3317 - val_acc: 0.8122\n",
      "Epoch 44/50\n",
      "25000/25000 [==============================] - 376s - loss: 0.0016 - acc: 0.9997 - val_loss: 1.3017 - val_acc: 0.8184\n",
      "Epoch 45/50\n",
      "25000/25000 [==============================] - 385s - loss: 5.3597e-04 - acc: 0.9998 - val_loss: 1.6317 - val_acc: 0.8200\n",
      "Epoch 46/50\n",
      "25000/25000 [==============================] - 373s - loss: 1.5725e-05 - acc: 1.0000 - val_loss: 1.6744 - val_acc: 0.8208\n",
      "Epoch 47/50\n",
      "25000/25000 [==============================] - 377s - loss: 7.3033e-06 - acc: 1.0000 - val_loss: 1.7600 - val_acc: 0.8203\n",
      "Epoch 48/50\n",
      "25000/25000 [==============================] - 384s - loss: 4.2297e-06 - acc: 1.0000 - val_loss: 1.8401 - val_acc: 0.8210\n",
      "Epoch 49/50\n",
      "25000/25000 [==============================] - 382s - loss: 2.7366e-06 - acc: 1.0000 - val_loss: 1.9219 - val_acc: 0.8210\n",
      "Epoch 50/50\n",
      "25000/25000 [==============================] - 370s - loss: 1.7549e-06 - acc: 1.0000 - val_loss: 1.9953 - val_acc: 0.8210\n",
      "25000/25000 [==============================] - 93s    \n",
      "\n",
      "Test accuracy: 1.99529197395\n",
      "Test loss: 0.82096\n"
     ]
    }
   ],
   "source": [
    "print('Build model...')\n",
    "model = Sequential()\n",
    "model.add(Embedding(max_features, 128, input_length=maxlen))\n",
    "\n",
    "model.add(LSTM(128,return_sequences=True))\n",
    "model.add(LSTM(128,return_sequences=True))\n",
    "model.add(LSTM(128))\n",
    "\n",
    "model.add(Dropout(0.5))\n",
    "model.add(Dense(1))\n",
    "model.add(Activation('sigmoid'))\n",
    "\n",
    "# try using different optimizers and different optimizer configs\n",
    "model.compile(loss='binary_crossentropy', optimizer='adam',metrics=[\"accuracy\"])\n",
    "\n",
    "print(\"Train...\")\n",
    "model.fit(X_train, y_train, batch_size=batch_size, nb_epoch=50, validation_data=(X_test, y_test))\n",
    "acc , loss = model.evaluate(X_test, y_test, batch_size=batch_size)\n",
    "print()\n",
    "print('Test accuracy:', acc)\n",
    "print('Test loss:', loss)"
   ]
  },
  {
   "cell_type": "code",
   "execution_count": null,
   "metadata": {
    "collapsed": true
   },
   "outputs": [],
   "source": []
  },
  {
   "cell_type": "code",
   "execution_count": null,
   "metadata": {
    "collapsed": true
   },
   "outputs": [],
   "source": []
  }
 ],
 "metadata": {
  "kernelspec": {
   "display_name": "Python 3",
   "language": "python",
   "name": "python3"
  },
  "language_info": {
   "codemirror_mode": {
    "name": "ipython",
    "version": 3
   },
   "file_extension": ".py",
   "mimetype": "text/x-python",
   "name": "python",
   "nbconvert_exporter": "python",
   "pygments_lexer": "ipython3",
   "version": "3.5.2"
  }
 },
 "nbformat": 4,
 "nbformat_minor": 0
}
