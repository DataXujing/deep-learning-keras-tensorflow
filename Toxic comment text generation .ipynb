{
 "cells": [
  {
   "cell_type": "markdown",
   "metadata": {},
   "source": [
    "# TASK1: load the toxic dataset and append all comments to one long text "
   ]
  },
  {
   "cell_type": "code",
   "execution_count": 82,
   "metadata": {
    "collapsed": true
   },
   "outputs": [],
   "source": [
    "import pandas as pd"
   ]
  },
  {
   "cell_type": "code",
   "execution_count": 83,
   "metadata": {
    "collapsed": true
   },
   "outputs": [],
   "source": [
    "train_data = pd.read_csv('/home/ubuntu/Downloads/train.csv')\n",
    "total_train_sent_list = list(train_data['comment_text'])"
   ]
  },
  {
   "cell_type": "code",
   "execution_count": 84,
   "metadata": {
    "collapsed": true
   },
   "outputs": [],
   "source": [
    "# long_text2 = train_data['comment_text'].str.cat()"
   ]
  },
  {
   "cell_type": "code",
   "execution_count": 85,
   "metadata": {
    "collapsed": false
   },
   "outputs": [],
   "source": [
    "long_text = ''\n",
    "for line in total_train_sent_list:\n",
    "    long_text += line\n",
    "    long_text += ' '"
   ]
  },
  {
   "cell_type": "markdown",
   "metadata": {},
   "source": [
    "# Task2: build vocabulary "
   ]
  },
  {
   "cell_type": "code",
   "execution_count": 86,
   "metadata": {
    "collapsed": false
   },
   "outputs": [],
   "source": [
    "#we need that every characted will have an index \n",
    "long_text = long_text[:10000]\n",
    "character_list = [character for character in long_text]\n",
    "dict_character = dict(enumerate(set(character_list)))"
   ]
  },
  {
   "cell_type": "code",
   "execution_count": 90,
   "metadata": {
    "collapsed": false
   },
   "outputs": [],
   "source": [
    "reverese_dict = {value:key for key,value in dict_character.items()}"
   ]
  },
  {
   "cell_type": "code",
   "execution_count": 100,
   "metadata": {
    "collapsed": true
   },
   "outputs": [
    {
     "name": "stdout",
     "output_type": "stream",
     "text": [
      "\n",
      " 0\n",
      "  1\n",
      "! 2\n",
      "\" 3\n",
      "' 4\n",
      "( 5\n",
      ") 6\n",
      "* 7\n",
      ", 8\n",
      "- 9\n",
      ". 10\n",
      "/ 11\n",
      "0 12\n",
      "1 13\n",
      "2 14\n",
      "3 15\n",
      "4 16\n",
      "5 17\n",
      "7 18\n",
      "8 19\n",
      "9 20\n",
      ": 21\n",
      "; 22\n",
      "? 23\n",
      "A 24\n",
      "B 25\n",
      "C 26\n",
      "D 27\n",
      "E 28\n",
      "F 29\n",
      "G 30\n",
      "H 31\n",
      "I 32\n",
      "J 33\n",
      "K 34\n",
      "L 35\n",
      "M 36\n",
      "N 37\n",
      "O 38\n",
      "P 39\n",
      "R 40\n",
      "S 41\n",
      "T 42\n",
      "U 43\n",
      "V 44\n",
      "W 45\n",
      "Y 46\n",
      "a 47\n",
      "b 48\n",
      "c 49\n",
      "d 50\n",
      "e 51\n",
      "f 52\n",
      "g 53\n",
      "h 54\n",
      "i 55\n",
      "j 56\n",
      "k 57\n",
      "l 58\n",
      "m 59\n",
      "n 60\n",
      "o 61\n",
      "p 62\n",
      "q 63\n",
      "r 64\n",
      "s 65\n",
      "t 66\n",
      "u 67\n",
      "v 68\n",
      "w 69\n",
      "x 70\n",
      "y 71\n",
      "z 72\n",
      "{ 73\n",
      "| 74\n",
      "} 75\n",
      "~ 76\n"
     ]
    }
   ],
   "source": [
    "for index, ch in enumerate(sorted(set(character_list))):\n",
    "    print (ch,index)"
   ]
  },
  {
   "cell_type": "code",
   "execution_count": 101,
   "metadata": {
    "collapsed": false,
    "scrolled": true
   },
   "outputs": [],
   "source": [
    "dict_character = {ch:index for index, ch in enumerate(sorted(set(character_list)))}"
   ]
  },
  {
   "cell_type": "code",
   "execution_count": 92,
   "metadata": {
    "collapsed": false
   },
   "outputs": [],
   "source": [
    "seq_len = 40\n",
    "step = 3\n",
    "\n",
    "X_list = []\n",
    "Y_list = []\n",
    "for start_index in list(range(0,len(long_text) - 100 ,step)):\n",
    "    X_list.append(long_text[start_index:start_index + seq_len])\n",
    "    Y_list.append(long_text[start_index + 1:start_index + seq_len + 1])"
   ]
  },
  {
   "cell_type": "code",
   "execution_count": 93,
   "metadata": {
    "collapsed": false
   },
   "outputs": [
    {
     "data": {
      "text/plain": [
       "'Nonsense?  kiss off, geek. what I said i'"
      ]
     },
     "execution_count": 93,
     "metadata": {},
     "output_type": "execute_result"
    }
   ],
   "source": [
    "X_list[0]"
   ]
  },
  {
   "cell_type": "code",
   "execution_count": 68,
   "metadata": {
    "collapsed": false
   },
   "outputs": [
    {
     "data": {
      "text/plain": [
       "'onsense?  kiss off, geek. what I said is'"
      ]
     },
     "execution_count": 68,
     "metadata": {},
     "output_type": "execute_result"
    }
   ],
   "source": [
    "Y_list[0]"
   ]
  },
  {
   "cell_type": "markdown",
   "metadata": {},
   "source": [
    "# Task3: apply the dictionary "
   ]
  },
  {
   "cell_type": "code",
   "execution_count": 94,
   "metadata": {
    "collapsed": false
   },
   "outputs": [],
   "source": [
    "X_list_tokenized = [dict_character[character] for character in line for line in X_list]"
   ]
  },
  {
   "cell_type": "code",
   "execution_count": 103,
   "metadata": {
    "collapsed": false
   },
   "outputs": [],
   "source": [
    "X_list_tokenized = []\n",
    "for line in X_list:\n",
    "    cur_line_values = []\n",
    "    for ch in line:\n",
    "        cur_line_values.append(dict_character[ch])\n",
    "    X_list_tokenized.append(cur_line_values)"
   ]
  },
  {
   "cell_type": "code",
   "execution_count": 105,
   "metadata": {
    "collapsed": false
   },
   "outputs": [],
   "source": [
    "Y_list_tokenized = []\n",
    "for line in Y_list:\n",
    "    cur_line_values = []\n",
    "    for ch in line:\n",
    "        cur_line_values.append(dict_character[ch])\n",
    "    Y_list_tokenized.append(cur_line_values)"
   ]
  },
  {
   "cell_type": "code",
   "execution_count": 108,
   "metadata": {
    "collapsed": false
   },
   "outputs": [
    {
     "data": {
      "text/plain": [
       "[37,\n",
       " 61,\n",
       " 60,\n",
       " 65,\n",
       " 51,\n",
       " 60,\n",
       " 65,\n",
       " 51,\n",
       " 23,\n",
       " 1,\n",
       " 1,\n",
       " 57,\n",
       " 55,\n",
       " 65,\n",
       " 65,\n",
       " 1,\n",
       " 61,\n",
       " 52,\n",
       " 52,\n",
       " 8,\n",
       " 1,\n",
       " 53,\n",
       " 51,\n",
       " 51,\n",
       " 57,\n",
       " 10,\n",
       " 1,\n",
       " 69,\n",
       " 54,\n",
       " 47,\n",
       " 66,\n",
       " 1,\n",
       " 32,\n",
       " 1,\n",
       " 65,\n",
       " 47,\n",
       " 55,\n",
       " 50,\n",
       " 1,\n",
       " 55]"
      ]
     },
     "execution_count": 108,
     "metadata": {},
     "output_type": "execute_result"
    }
   ],
   "source": [
    "X_list_tokenized[0]"
   ]
  },
  {
   "cell_type": "code",
   "execution_count": 109,
   "metadata": {
    "collapsed": false
   },
   "outputs": [
    {
     "data": {
      "text/plain": [
       "[61,\n",
       " 60,\n",
       " 65,\n",
       " 51,\n",
       " 60,\n",
       " 65,\n",
       " 51,\n",
       " 23,\n",
       " 1,\n",
       " 1,\n",
       " 57,\n",
       " 55,\n",
       " 65,\n",
       " 65,\n",
       " 1,\n",
       " 61,\n",
       " 52,\n",
       " 52,\n",
       " 8,\n",
       " 1,\n",
       " 53,\n",
       " 51,\n",
       " 51,\n",
       " 57,\n",
       " 10,\n",
       " 1,\n",
       " 69,\n",
       " 54,\n",
       " 47,\n",
       " 66,\n",
       " 1,\n",
       " 32,\n",
       " 1,\n",
       " 65,\n",
       " 47,\n",
       " 55,\n",
       " 50,\n",
       " 1,\n",
       " 55,\n",
       " 65]"
      ]
     },
     "execution_count": 109,
     "metadata": {},
     "output_type": "execute_result"
    }
   ],
   "source": [
    "Y_list_tokenized[0]"
   ]
  },
  {
   "cell_type": "code",
   "execution_count": null,
   "metadata": {
    "collapsed": true
   },
   "outputs": [],
   "source": []
  }
 ],
 "metadata": {
  "kernelspec": {
   "display_name": "Python 3",
   "language": "python",
   "name": "python3"
  },
  "language_info": {
   "codemirror_mode": {
    "name": "ipython",
    "version": 3
   },
   "file_extension": ".py",
   "mimetype": "text/x-python",
   "name": "python",
   "nbconvert_exporter": "python",
   "pygments_lexer": "ipython3",
   "version": "3.5.2"
  }
 },
 "nbformat": 4,
 "nbformat_minor": 0
}
