{
 "cells": [
  {
   "cell_type": "markdown",
   "metadata": {},
   "source": [
    "# TASK1: load the toxic dataset and append all comments to one long text "
   ]
  },
  {
   "cell_type": "code",
   "execution_count": 1,
   "metadata": {
    "collapsed": true
   },
   "outputs": [],
   "source": [
    "import pandas as pd"
   ]
  },
  {
   "cell_type": "code",
   "execution_count": 2,
   "metadata": {
    "collapsed": true
   },
   "outputs": [],
   "source": [
    "train_data = pd.read_csv('/home/ubuntu/Downloads/train.csv')\n",
    "total_train_sent_list = list(train_data['comment_text'])"
   ]
  },
  {
   "cell_type": "code",
   "execution_count": 3,
   "metadata": {
    "collapsed": false
   },
   "outputs": [],
   "source": [
    "long_text = ''\n",
    "for line in total_train_sent_list:\n",
    "    long_text += line\n",
    "    long_text += ' '"
   ]
  },
  {
   "cell_type": "markdown",
   "metadata": {},
   "source": [
    "# Task2: build vocabulary "
   ]
  },
  {
   "cell_type": "code",
   "execution_count": 4,
   "metadata": {
    "collapsed": false
   },
   "outputs": [],
   "source": [
    "#we need that every characted will have an index \n",
    "long_text = long_text[:10000]\n",
    "character_list = [character for character in long_text]\n",
    "dict_character = {ch:index for index, ch in enumerate(sorted(set(character_list)))}"
   ]
  },
  {
   "cell_type": "markdown",
   "metadata": {},
   "source": [
    "### Organize data "
   ]
  },
  {
   "cell_type": "code",
   "execution_count": 5,
   "metadata": {
    "collapsed": false
   },
   "outputs": [],
   "source": [
    "seq_len = 40\n",
    "step = 3\n",
    "\n",
    "X_list = []\n",
    "Y_list = []\n",
    "for start_index in list(range(0,len(long_text) - 100 ,step)):\n",
    "    X_list.append(long_text[start_index:start_index + seq_len])\n",
    "    Y_list.append(long_text[start_index + seq_len])"
   ]
  },
  {
   "cell_type": "code",
   "execution_count": 29,
   "metadata": {
    "collapsed": false
   },
   "outputs": [
    {
     "name": "stdout",
     "output_type": "stream",
     "text": [
      " you added because it seemed kind of spa\n",
      "m\n"
     ]
    }
   ],
   "source": [
    "sample_index = 100\n",
    "print (X_list[sample_index])\n",
    "print (Y_list[sample_index])"
   ]
  },
  {
   "cell_type": "markdown",
   "metadata": {},
   "source": [
    "# Task3 : apply dictionary on charecters to get numbers for each character"
   ]
  },
  {
   "cell_type": "code",
   "execution_count": 8,
   "metadata": {
    "collapsed": false
   },
   "outputs": [],
   "source": [
    "X_list_tokenized = []\n",
    "for line in X_list:\n",
    "    cur_line_values = []\n",
    "    for ch in line:\n",
    "        cur_line_values.append(dict_character[ch])\n",
    "    X_list_tokenized.append(cur_line_values)"
   ]
  },
  {
   "cell_type": "code",
   "execution_count": 9,
   "metadata": {
    "collapsed": false
   },
   "outputs": [],
   "source": [
    "Y_list_tokenized = []\n",
    "for ch in Y_list:\n",
    "    Y_list_tokenized.append(dict_character[ch])"
   ]
  },
  {
   "cell_type": "code",
   "execution_count": 10,
   "metadata": {
    "collapsed": false
   },
   "outputs": [
    {
     "name": "stderr",
     "output_type": "stream",
     "text": [
      "Using TensorFlow backend.\n"
     ]
    }
   ],
   "source": [
    "from keras.utils import np_utils"
   ]
  },
  {
   "cell_type": "code",
   "execution_count": 11,
   "metadata": {
    "collapsed": false
   },
   "outputs": [],
   "source": [
    "X_list_one_hot = []\n",
    "for line in X_list_tokenized:\n",
    "    one_hot_line = np_utils.to_categorical(line,num_classes=len(dict_character))\n",
    "    X_list_one_hot.append(one_hot_line)\n"
   ]
  },
  {
   "cell_type": "code",
   "execution_count": 12,
   "metadata": {
    "collapsed": true
   },
   "outputs": [],
   "source": [
    "Y_list_one_hot = []\n",
    "for ch in Y_list_tokenized:\n",
    "    Y_list_one_hot.append(np_utils.to_categorical(ch,num_classes=len(dict_character)))"
   ]
  },
  {
   "cell_type": "code",
   "execution_count": 13,
   "metadata": {
    "collapsed": false
   },
   "outputs": [
    {
     "name": "stdout",
     "output_type": "stream",
     "text": [
      "N\n",
      "37\n",
      "[ 0.  0.  0.  0.  0.  0.  0.  0.  0.  0.  0.  0.  0.  0.  0.  0.  0.  0.\n",
      "  0.  0.  0.  0.  0.  0.  0.  0.  0.  0.  0.  0.  0.  0.  0.  0.  0.  0.\n",
      "  0.  1.  0.  0.  0.  0.  0.  0.  0.  0.  0.  0.  0.  0.  0.  0.  0.  0.\n",
      "  0.  0.  0.  0.  0.  0.  0.  0.  0.  0.  0.  0.  0.  0.  0.  0.  0.  0.\n",
      "  0.  0.  0.  0.  0.]\n"
     ]
    }
   ],
   "source": [
    "print(X_list[0][0])\n",
    "print(X_list_tokenized[0][0])\n",
    "print(X_list_one_hot[0][0])\n"
   ]
  },
  {
   "cell_type": "markdown",
   "metadata": {},
   "source": [
    "# TASK: define and train a model"
   ]
  },
  {
   "cell_type": "code",
   "execution_count": 14,
   "metadata": {
    "collapsed": false
   },
   "outputs": [],
   "source": [
    "import numpy as np"
   ]
  },
  {
   "cell_type": "code",
   "execution_count": 15,
   "metadata": {
    "collapsed": false,
    "scrolled": true
   },
   "outputs": [],
   "source": [
    "X = np.array(X_list_one_hot)\n",
    "Y = np.array(Y_list_one_hot)"
   ]
  },
  {
   "cell_type": "code",
   "execution_count": 16,
   "metadata": {
    "collapsed": true
   },
   "outputs": [],
   "source": [
    "from keras import Sequential\n",
    "from keras.layers import Dense, Activation\n",
    "from keras.layers import LSTM\n",
    "from keras.optimizers import RMSprop\n",
    "\n"
   ]
  },
  {
   "cell_type": "code",
   "execution_count": 17,
   "metadata": {
    "collapsed": false
   },
   "outputs": [
    {
     "name": "stdout",
     "output_type": "stream",
     "text": [
      "Build model...\n"
     ]
    }
   ],
   "source": [
    "print('Build model...')\n",
    "model = Sequential()\n",
    "model.add(LSTM(128, input_shape=(seq_len, len(dict_character))))\n",
    "model.add(Dense(len(dict_character)))\n",
    "model.add(Activation('softmax'))\n",
    "\n",
    "optimizer = RMSprop(lr=0.01)\n",
    "model.compile(loss='categorical_crossentropy', optimizer=optimizer)"
   ]
  },
  {
   "cell_type": "code",
   "execution_count": 18,
   "metadata": {
    "collapsed": false,
    "scrolled": true
   },
   "outputs": [
    {
     "name": "stdout",
     "output_type": "stream",
     "text": [
      "Epoch 1/20\n",
      "3300/3300 [==============================] - 5s 2ms/step - loss: 3.0422\n",
      "Epoch 2/20\n",
      "3300/3300 [==============================] - 5s 2ms/step - loss: 2.5890\n",
      "Epoch 3/20\n",
      "3300/3300 [==============================] - 4s 1ms/step - loss: 2.3771\n",
      "Epoch 4/20\n",
      "3300/3300 [==============================] - 5s 1ms/step - loss: 2.1354\n",
      "Epoch 5/20\n",
      "3300/3300 [==============================] - 5s 1ms/step - loss: 1.9225\n",
      "Epoch 6/20\n",
      "3300/3300 [==============================] - 5s 1ms/step - loss: 1.7007\n",
      "Epoch 7/20\n",
      "3300/3300 [==============================] - 5s 2ms/step - loss: 1.4371\n",
      "Epoch 8/20\n",
      "3300/3300 [==============================] - 5s 2ms/step - loss: 1.2351\n",
      "Epoch 9/20\n",
      "3300/3300 [==============================] - 5s 2ms/step - loss: 1.0382\n",
      "Epoch 10/20\n",
      "3300/3300 [==============================] - 6s 2ms/step - loss: 0.8866\n",
      "Epoch 11/20\n",
      "3300/3300 [==============================] - 6s 2ms/step - loss: 0.7522\n",
      "Epoch 12/20\n",
      "3300/3300 [==============================] - 6s 2ms/step - loss: 0.6483\n",
      "Epoch 13/20\n",
      "3300/3300 [==============================] - 6s 2ms/step - loss: 0.5669\n",
      "Epoch 14/20\n",
      "3300/3300 [==============================] - 7s 2ms/step - loss: 0.5222\n",
      "Epoch 15/20\n",
      "3300/3300 [==============================] - 7s 2ms/step - loss: 0.4812\n",
      "Epoch 16/20\n",
      "3300/3300 [==============================] - 6s 2ms/step - loss: 0.4392\n",
      "Epoch 17/20\n",
      "3300/3300 [==============================] - 6s 2ms/step - loss: 0.4249\n",
      "Epoch 18/20\n",
      "3300/3300 [==============================] - 6s 2ms/step - loss: 0.3846\n",
      "Epoch 19/20\n",
      "3300/3300 [==============================] - 7s 2ms/step - loss: 0.3789\n",
      "Epoch 20/20\n",
      "3300/3300 [==============================] - 6s 2ms/step - loss: 0.3413\n"
     ]
    },
    {
     "data": {
      "text/plain": [
       "<keras.callbacks.History at 0x7fc20b483828>"
      ]
     },
     "execution_count": 18,
     "metadata": {},
     "output_type": "execute_result"
    }
   ],
   "source": [
    "model.fit(X, Y, epochs=20)"
   ]
  },
  {
   "cell_type": "code",
   "execution_count": 19,
   "metadata": {
    "collapsed": false
   },
   "outputs": [
    {
     "name": "stdout",
     "output_type": "stream",
     "text": [
      "_________________________________________________________________\n",
      "Layer (type)                 Output Shape              Param #   \n",
      "=================================================================\n",
      "lstm_1 (LSTM)                (None, 128)               105472    \n",
      "_________________________________________________________________\n",
      "dense_1 (Dense)              (None, 77)                9933      \n",
      "_________________________________________________________________\n",
      "activation_1 (Activation)    (None, 77)                0         \n",
      "=================================================================\n",
      "Total params: 115,405\n",
      "Trainable params: 115,405\n",
      "Non-trainable params: 0\n",
      "_________________________________________________________________\n"
     ]
    }
   ],
   "source": [
    "model.summary()"
   ]
  },
  {
   "cell_type": "code",
   "execution_count": 20,
   "metadata": {
    "collapsed": false
   },
   "outputs": [],
   "source": [
    "sentence = long_text[400:440]\n",
    "sentence_tokenize = [dict_character[ch] for ch in sentence]\n",
    "new_generated_sentence = []\n",
    "for i in range(100):\n",
    "    sentence_tokenize_one_hot = [np_utils.to_categorical(ch,num_classes=len(dict_character)) for ch in sentence_tokenize]\n",
    "    sentence_tokenize_one_hot = np.array(sentence_tokenize_one_hot)\n",
    "    next_charecter_prob_vector = model.predict(sentence_tokenize_one_hot[None])\n",
    "    next_charecter_prob_vector = next_charecter_prob_vector.ravel()\n",
    "    most_probably_character_index = np.argmax(next_charecter_prob_vector)\n",
    "    \n",
    "    sentence_tokenize[:-1] = sentence_tokenize[1:]\n",
    "    sentence_tokenize[-1] = most_probably_character_index\n",
    "    \n",
    "    new_generated_sentence.append(most_probably_character_index)\n",
    "\n"
   ]
  },
  {
   "cell_type": "code",
   "execution_count": 21,
   "metadata": {
    "collapsed": false
   },
   "outputs": [
    {
     "data": {
      "text/plain": [
       "[47,\n",
       " 65,\n",
       " 1,\n",
       " 47,\n",
       " 60,\n",
       " 50,\n",
       " 1,\n",
       " 50,\n",
       " 51,\n",
       " 51,\n",
       " 60,\n",
       " 66,\n",
       " 1,\n",
       " 61,\n",
       " 66,\n",
       " 51,\n",
       " 1,\n",
       " 66,\n",
       " 61,\n",
       " 1,\n",
       " 66,\n",
       " 54,\n",
       " 51,\n",
       " 1,\n",
       " 49,\n",
       " 61,\n",
       " 59,\n",
       " 62,\n",
       " 65,\n",
       " 62,\n",
       " 51,\n",
       " 47,\n",
       " 64,\n",
       " 51,\n",
       " 1,\n",
       " 66,\n",
       " 54,\n",
       " 51,\n",
       " 1,\n",
       " 64,\n",
       " 51,\n",
       " 47,\n",
       " 50,\n",
       " 51,\n",
       " 64,\n",
       " 65,\n",
       " 1,\n",
       " 66,\n",
       " 61,\n",
       " 1,\n",
       " 48,\n",
       " 67,\n",
       " 66,\n",
       " 1,\n",
       " 47,\n",
       " 66,\n",
       " 1,\n",
       " 55,\n",
       " 65,\n",
       " 1,\n",
       " 47,\n",
       " 64,\n",
       " 1,\n",
       " 47,\n",
       " 64,\n",
       " 51,\n",
       " 1,\n",
       " 64,\n",
       " 51,\n",
       " 47,\n",
       " 50,\n",
       " 51,\n",
       " 64,\n",
       " 47,\n",
       " 58,\n",
       " 1,\n",
       " 66,\n",
       " 54,\n",
       " 51,\n",
       " 1,\n",
       " 47,\n",
       " 58,\n",
       " 50,\n",
       " 55,\n",
       " 49,\n",
       " 58,\n",
       " 51,\n",
       " 1,\n",
       " 66,\n",
       " 61,\n",
       " 1,\n",
       " 66,\n",
       " 54,\n",
       " 51,\n",
       " 1,\n",
       " 51,\n",
       " 70,\n",
       " 62,\n",
       " 58,\n",
       " 51]"
      ]
     },
     "execution_count": 21,
     "metadata": {},
     "output_type": "execute_result"
    }
   ],
   "source": [
    "new_generated_sentence"
   ]
  },
  {
   "cell_type": "code",
   "execution_count": 22,
   "metadata": {
    "collapsed": false
   },
   "outputs": [],
   "source": [
    "tokens_dict = {value:key for key,value in dict_character.items() }"
   ]
  },
  {
   "cell_type": "code",
   "execution_count": 23,
   "metadata": {
    "collapsed": false
   },
   "outputs": [],
   "source": [
    "new_generated_sentence_in_english = [tokens_dict[tok] for tok in  new_generated_sentence]"
   ]
  },
  {
   "cell_type": "code",
   "execution_count": 24,
   "metadata": {
    "collapsed": false
   },
   "outputs": [
    {
     "name": "stdout",
     "output_type": "stream",
     "text": [
      "as and deent ote to the compspeare the readers to but at is ar are readeral the aldicle to the exple\n"
     ]
    }
   ],
   "source": [
    "new_line = ''\n",
    "for c in new_generated_sentence_in_english:1\n",
    "    new_line += c\n",
    "print (new_line)"
   ]
  },
  {
   "cell_type": "code",
   "execution_count": 25,
   "metadata": {
    "collapsed": true
   },
   "outputs": [],
   "source": [
    "import matplotlib.pyplot as plt\n",
    "%matplotlib inline"
   ]
  },
  {
   "cell_type": "code",
   "execution_count": 26,
   "metadata": {
    "collapsed": false
   },
   "outputs": [
    {
     "ename": "NameError",
     "evalue": "name 'next_word_prob_vector' is not defined",
     "output_type": "error",
     "traceback": [
      "\u001b[0;31m---------------------------------------------------------------------------\u001b[0m",
      "\u001b[0;31mNameError\u001b[0m                                 Traceback (most recent call last)",
      "\u001b[0;32m<ipython-input-26-31f5e61f2427>\u001b[0m in \u001b[0;36m<module>\u001b[0;34m()\u001b[0m\n\u001b[0;32m----> 1\u001b[0;31m \u001b[0mplt\u001b[0m\u001b[0;34m.\u001b[0m\u001b[0mplot\u001b[0m\u001b[0;34m(\u001b[0m\u001b[0mnext_word_prob_vector\u001b[0m\u001b[0;34m,\u001b[0m\u001b[0;34m'b.'\u001b[0m\u001b[0;34m)\u001b[0m\u001b[0;34m\u001b[0m\u001b[0m\n\u001b[0m",
      "\u001b[0;31mNameError\u001b[0m: name 'next_word_prob_vector' is not defined"
     ]
    }
   ],
   "source": [
    "plt.plot(next_word_prob_vector,'b.')"
   ]
  },
  {
   "cell_type": "code",
   "execution_count": null,
   "metadata": {
    "collapsed": true
   },
   "outputs": [],
   "source": []
  }
 ],
 "metadata": {
  "kernelspec": {
   "display_name": "Python 3",
   "language": "python",
   "name": "python3"
  },
  "language_info": {
   "codemirror_mode": {
    "name": "ipython",
    "version": 3
   },
   "file_extension": ".py",
   "mimetype": "text/x-python",
   "name": "python",
   "nbconvert_exporter": "python",
   "pygments_lexer": "ipython3",
   "version": "3.5.2"
  }
 },
 "nbformat": 4,
 "nbformat_minor": 0
}
