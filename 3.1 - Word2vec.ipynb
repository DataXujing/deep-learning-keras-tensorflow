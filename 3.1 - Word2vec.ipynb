{
 "cells": [
  {
   "cell_type": "code",
   "execution_count": 1,
   "metadata": {
    "collapsed": false
   },
   "outputs": [],
   "source": [
    "from gensim.models import word2vec\n",
    "from gensim.models.word2vec import Word2Vec\n",
    "import gensim\n",
    "#http://mccormickml.com/2016/04/12/googles-pretrained-word2vec-model-in-python/"
   ]
  },
  {
   "cell_type": "code",
   "execution_count": 2,
   "metadata": {
    "collapsed": false
   },
   "outputs": [],
   "source": [
    "model = gensim.models.KeyedVectors.load_word2vec_format('/home/ubuntu/Downloads/GoogleNews-vectors-negative300.bin', binary=True)  "
   ]
  },
  {
   "cell_type": "code",
   "execution_count": 13,
   "metadata": {
    "collapsed": false
   },
   "outputs": [
    {
     "data": {
      "text/plain": [
       "(300,)"
      ]
     },
     "execution_count": 13,
     "metadata": {},
     "output_type": "execute_result"
    }
   ],
   "source": [
    "model['gold']"
   ]
  },
  {
   "cell_type": "code",
   "execution_count": 4,
   "metadata": {
    "collapsed": false
   },
   "outputs": [
    {
     "data": {
      "text/plain": [
       "0.76640122309953518"
      ]
     },
     "execution_count": 4,
     "metadata": {},
     "output_type": "execute_result"
    }
   ],
   "source": [
    "model.similarity('woman', 'man')"
   ]
  },
  {
   "cell_type": "code",
   "execution_count": 5,
   "metadata": {
    "collapsed": false
   },
   "outputs": [
    {
     "data": {
      "text/plain": [
       "0.83132921488263711"
      ]
     },
     "execution_count": 5,
     "metadata": {},
     "output_type": "execute_result"
    }
   ],
   "source": [
    "model.similarity('gold', 'silver')"
   ]
  },
  {
   "cell_type": "code",
   "execution_count": 6,
   "metadata": {
    "collapsed": false
   },
   "outputs": [
    {
     "data": {
      "text/plain": [
       "0.013822393764604809"
      ]
     },
     "execution_count": 6,
     "metadata": {},
     "output_type": "execute_result"
    }
   ],
   "source": [
    "model.similarity('gold', 'chair')"
   ]
  },
  {
   "cell_type": "code",
   "execution_count": 7,
   "metadata": {
    "collapsed": false,
    "scrolled": true
   },
   "outputs": [
    {
     "data": {
      "text/plain": [
       "[('silver', 0.8313292264938354),\n",
       " ('precious_metal', 0.7141956090927124),\n",
       " ('domed_Moussa', 0.6745095252990723),\n",
       " ('Nastia_deserved', 0.6671658754348755),\n",
       " ('Gold', 0.6448119878768921),\n",
       " ('Oludamola_stripped', 0.6431384682655334),\n",
       " ('precious_metals', 0.622248649597168),\n",
       " ('Cuba_Yumileidi_Cumba_Jay', 0.6155210137367249),\n",
       " ('bullion', 0.6131513118743896),\n",
       " ('Safiullah_seated', 0.6025084257125854)]"
      ]
     },
     "execution_count": 7,
     "metadata": {},
     "output_type": "execute_result"
    }
   ],
   "source": [
    "model.similar_by_word('gold')"
   ]
  },
  {
   "cell_type": "code",
   "execution_count": 8,
   "metadata": {
    "collapsed": false
   },
   "outputs": [
    {
     "data": {
      "text/plain": [
       "[('chairs', 0.7871319055557251),\n",
       " ('Chair', 0.7488438487052917),\n",
       " ('chairperson', 0.6301862597465515),\n",
       " ('chairwoman', 0.6271359920501709),\n",
       " ('chairman', 0.6161440014839172),\n",
       " ('Vice_Chair', 0.5646666288375854),\n",
       " ('Co_Chair', 0.5469809770584106),\n",
       " ('chairing', 0.5431761741638184),\n",
       " ('Chairs', 0.5395591259002686),\n",
       " ('cochair', 0.5284922122955322)]"
      ]
     },
     "execution_count": 8,
     "metadata": {},
     "output_type": "execute_result"
    }
   ],
   "source": [
    "model.similar_by_word('chair')"
   ]
  },
  {
   "cell_type": "code",
   "execution_count": 9,
   "metadata": {
    "collapsed": false
   },
   "outputs": [
    {
     "data": {
      "text/plain": [
       "[('queen', 0.7118192911148071),\n",
       " ('monarch', 0.6189674139022827),\n",
       " ('princess', 0.5902431011199951),\n",
       " ('crown_prince', 0.5499460697174072),\n",
       " ('prince', 0.5377321243286133),\n",
       " ('kings', 0.5236844420433044),\n",
       " ('Queen_Consort', 0.5235945582389832),\n",
       " ('queens', 0.518113374710083),\n",
       " ('sultan', 0.5098593235015869),\n",
       " ('monarchy', 0.5087411999702454)]"
      ]
     },
     "execution_count": 9,
     "metadata": {},
     "output_type": "execute_result"
    }
   ],
   "source": [
    "model.most_similar(positive=['woman', 'king'], negative=['man'])"
   ]
  },
  {
   "cell_type": "code",
   "execution_count": 10,
   "metadata": {
    "collapsed": false
   },
   "outputs": [
    {
     "data": {
      "text/plain": [
       "[('dome', 0.5111969709396362),\n",
       " ('bell_tower', 0.5005024075508118),\n",
       " ('spire', 0.4999949336051941),\n",
       " ('crenellations', 0.499464750289917),\n",
       " ('turrets', 0.493954598903656),\n",
       " ('crenelated', 0.4875970482826233),\n",
       " ('skylight', 0.48529261350631714),\n",
       " ('spiral_staircase', 0.48518863320350647),\n",
       " ('cupola', 0.48412007093429565),\n",
       " ('Gothic_arches', 0.48038819432258606)]"
      ]
     },
     "execution_count": 10,
     "metadata": {},
     "output_type": "execute_result"
    }
   ],
   "source": [
    "model.most_similar(positive=['castle', 'roof'], negative=['house'])"
   ]
  },
  {
   "cell_type": "code",
   "execution_count": 11,
   "metadata": {
    "collapsed": false
   },
   "outputs": [
    {
     "data": {
      "text/plain": [
       "[('paris', 0.47690877318382263),\n",
       " ('charles', 0.4740920662879944),\n",
       " ('albert', 0.46750128269195557),\n",
       " ('alors', 0.4648790955543518),\n",
       " ('georgia', 0.4646167755126953),\n",
       " ('louis', 0.4607912302017212),\n",
       " ('lawrence', 0.4573736786842346),\n",
       " ('gra', 0.45667511224746704),\n",
       " ('mitchell', 0.4562113881111145),\n",
       " ('jacques', 0.4516369104385376)]"
      ]
     },
     "execution_count": 11,
     "metadata": {},
     "output_type": "execute_result"
    }
   ],
   "source": [
    "model.most_similar(positive=['france', 'rome'], negative=['italy'])"
   ]
  },
  {
   "cell_type": "code",
   "execution_count": 12,
   "metadata": {
    "collapsed": false
   },
   "outputs": [
    {
     "data": {
      "text/plain": [
       "[('up', 0.4813859462738037),\n",
       " ('off', 0.4259892702102661),\n",
       " ('out', 0.41192924976348877),\n",
       " ('back', 0.3871895372867584),\n",
       " ('dowm', 0.382374107837677),\n",
       " ('frequency_microwave_radiometer', 0.3360233008861542),\n",
       " ('away', 0.32152631878852844),\n",
       " ('slowed', 0.3202415406703949),\n",
       " ('hault', 0.3142881989479065),\n",
       " ('halt', 0.31237170100212097)]"
      ]
     },
     "execution_count": 12,
     "metadata": {},
     "output_type": "execute_result"
    }
   ],
   "source": [
    "model.most_similar(positive=['down', 'light'], negative=['dark'])"
   ]
  },
  {
   "cell_type": "code",
   "execution_count": null,
   "metadata": {
    "collapsed": true
   },
   "outputs": [],
   "source": []
  }
 ],
 "metadata": {
  "kernelspec": {
   "display_name": "Python 3",
   "language": "python",
   "name": "python3"
  },
  "language_info": {
   "codemirror_mode": {
    "name": "ipython",
    "version": 3
   },
   "file_extension": ".py",
   "mimetype": "text/x-python",
   "name": "python",
   "nbconvert_exporter": "python",
   "pygments_lexer": "ipython3",
   "version": "3.5.2"
  }
 },
 "nbformat": 4,
 "nbformat_minor": 0
}
