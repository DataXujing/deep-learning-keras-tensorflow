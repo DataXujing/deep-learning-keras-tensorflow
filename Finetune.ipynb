{
 "cells": [
  {
   "cell_type": "code",
   "execution_count": 27,
   "metadata": {
    "collapsed": false
   },
   "outputs": [],
   "source": [
    "from keras import applications\n",
    "from keras import Sequential\n",
    "from keras.layers.core import Dense, Activation\n"
   ]
  },
  {
   "cell_type": "code",
   "execution_count": 28,
   "metadata": {
    "collapsed": false
   },
   "outputs": [],
   "source": [
    "model = applications.VGG16(weights='imagenet', include_top=True)"
   ]
  },
  {
   "cell_type": "code",
   "execution_count": 29,
   "metadata": {
    "collapsed": false
   },
   "outputs": [
    {
     "data": {
      "text/plain": [
       "<keras.layers.core.Dense at 0x7ff6e4e19f60>"
      ]
     },
     "execution_count": 29,
     "metadata": {},
     "output_type": "execute_result"
    }
   ],
   "source": [
    "model.layers.pop()"
   ]
  },
  {
   "cell_type": "code",
   "execution_count": 31,
   "metadata": {
    "collapsed": false
   },
   "outputs": [],
   "source": [
    "top_model = Sequential()\n",
    "top_model.add(Dense(10,input_shape=(4096,)))\n",
    "top_model.add(Activation('softmax'))"
   ]
  },
  {
   "cell_type": "code",
   "execution_count": 32,
   "metadata": {
    "collapsed": false
   },
   "outputs": [],
   "source": [
    "# CREATE AN \"REAL\" MODEL FROM VGG16\n",
    "# BY COPYING ALL THE LAYERS OF VGG16\n",
    "new_model = Sequential()\n",
    "for l in model.layers:\n",
    "    new_model.add(l)"
   ]
  },
  {
   "cell_type": "code",
   "execution_count": 34,
   "metadata": {
    "collapsed": true
   },
   "outputs": [],
   "source": [
    "# CONCATENATE THE TWO MODELS\n",
    "new_model.add(top_model)"
   ]
  },
  {
   "cell_type": "code",
   "execution_count": 36,
   "metadata": {
    "collapsed": true
   },
   "outputs": [],
   "source": [
    "for layer in new_model.layers[:-1]:\n",
    "    layer.trainable = False"
   ]
  },
  {
   "cell_type": "code",
   "execution_count": 37,
   "metadata": {
    "collapsed": false
   },
   "outputs": [
    {
     "name": "stdout",
     "output_type": "stream",
     "text": [
      "{'kernel_constraint': None, 'bias_initializer': {'config': {}, 'class_name': 'Zeros'}, 'units': 4096, 'kernel_initializer': {'config': {'seed': None, 'scale': 1.0, 'distribution': 'uniform', 'mode': 'fan_avg'}, 'class_name': 'VarianceScaling'}, 'kernel_regularizer': None, 'activity_regularizer': None, 'bias_constraint': None, 'use_bias': True, 'activation': 'relu', 'name': 'fc2', 'bias_regularizer': None, 'trainable': False}\n",
      "\n",
      "[{'config': {'kernel_constraint': None, 'batch_input_shape': (None, 4096), 'bias_initializer': {'config': {}, 'class_name': 'Zeros'}, 'units': 10, 'kernel_initializer': {'config': {'seed': None, 'scale': 1.0, 'distribution': 'uniform', 'mode': 'fan_avg'}, 'class_name': 'VarianceScaling'}, 'kernel_regularizer': None, 'activity_regularizer': None, 'activation': 'linear', 'use_bias': True, 'bias_regularizer': None, 'dtype': 'float32', 'name': 'dense_2', 'bias_constraint': None, 'trainable': True}, 'class_name': 'Dense'}, {'config': {'name': 'activation_2', 'activation': 'softmax', 'trainable': True}, 'class_name': 'Activation'}]\n"
     ]
    }
   ],
   "source": [
    "print (new_model.layers[-2].get_config())\n",
    "print()\n",
    "print (new_model.layers[-1].get_config())"
   ]
  },
  {
   "cell_type": "code",
   "execution_count": 38,
   "metadata": {
    "collapsed": false
   },
   "outputs": [],
   "source": [
    "from keras.datasets import cifar10\n",
    "\n",
    "(X_train, y_train), (X_test, y_test) = cifar10.load_data()\n"
   ]
  },
  {
   "cell_type": "code",
   "execution_count": 39,
   "metadata": {
    "collapsed": false
   },
   "outputs": [],
   "source": [
    "from keras.utils import np_utils\n",
    "\n",
    "img_rows, img_cols = 32, 32\n",
    "nb_classes = 10\n",
    "\n",
    "X_train = X_train.reshape(X_train.shape[0], img_rows, img_cols,3)\n",
    "X_test = X_test.reshape(X_test.shape[0], img_rows, img_cols,3)\n",
    "\n",
    "X_train = X_train.astype('float32')\n",
    "X_test = X_test.astype('float32')\n",
    "\n",
    "X_train /= 255\n",
    "X_test /= 255\n",
    "\n",
    "Y_train = np_utils.to_categorical(y_train,nb_classes)\n",
    "Y_test = np_utils.to_categorical(y_test,nb_classes)"
   ]
  },
  {
   "cell_type": "code",
   "execution_count": 40,
   "metadata": {
    "collapsed": false
   },
   "outputs": [
    {
     "data": {
      "text/plain": [
       "(50000, 32, 32, 3)"
      ]
     },
     "execution_count": 40,
     "metadata": {},
     "output_type": "execute_result"
    }
   ],
   "source": [
    "X_train.shape"
   ]
  },
  {
   "cell_type": "code",
   "execution_count": 41,
   "metadata": {
    "collapsed": false
   },
   "outputs": [
    {
     "name": "stderr",
     "output_type": "stream",
     "text": [
      "/home/ubuntu/anaconda2/envs/deep-learning/lib/python3.5/site-packages/ipykernel/__main__.py:7: DeprecationWarning: `imresize` is deprecated!\n",
      "`imresize` is deprecated in SciPy 1.0.0, and will be removed in 1.2.0.\n",
      "Use ``skimage.transform.resize`` instead.\n",
      "/home/ubuntu/anaconda2/envs/deep-learning/lib/python3.5/site-packages/ipykernel/__main__.py:9: DeprecationWarning: `imresize` is deprecated!\n",
      "`imresize` is deprecated in SciPy 1.0.0, and will be removed in 1.2.0.\n",
      "Use ``skimage.transform.resize`` instead.\n"
     ]
    }
   ],
   "source": [
    "from scipy.misc import imresize\n",
    "import numpy as np\n",
    "X_train_resized = np.zeros(shape = (1000,224,224,3))\n",
    "X_test_resized = np.zeros(shape = (100,224,224,3))\n",
    "\n",
    "for im_ind in range(1000):\n",
    "    X_train_resized[im_ind] = imresize(X_train[im_ind],(224,224))\n",
    "for im_ind in range(100):   \n",
    "    X_test_resized[im_ind] = imresize(X_test[im_ind],(224,224))"
   ]
  },
  {
   "cell_type": "code",
   "execution_count": null,
   "metadata": {
    "collapsed": false
   },
   "outputs": [
    {
     "name": "stderr",
     "output_type": "stream",
     "text": [
      "/home/ubuntu/anaconda2/envs/deep-learning/lib/python3.5/site-packages/keras/models.py:939: UserWarning: The `nb_epoch` argument in `fit` has been renamed `epochs`.\n",
      "  warnings.warn('The `nb_epoch` argument in `fit` '\n"
     ]
    },
    {
     "name": "stdout",
     "output_type": "stream",
     "text": [
      "Train on 1000 samples, validate on 100 samples\n",
      "Epoch 1/10\n"
     ]
    }
   ],
   "source": [
    "new_model.compile(loss='categorical_crossentropy',\n",
    "          optimizer='sgd',\n",
    "          metrics=['accuracy'])\n",
    "\n",
    "new_model.fit(X_train_resized, Y_train[:1000], batch_size=32, \n",
    "          nb_epoch=10,verbose=1,\n",
    "          validation_data=(X_test_resized, Y_test[:100]))"
   ]
  },
  {
   "cell_type": "code",
   "execution_count": null,
   "metadata": {
    "collapsed": false
   },
   "outputs": [],
   "source": [
    "new_model.fit(X_train_resized, Y_train[:1000], batch_size=32, \n",
    "          nb_epoch=5,verbose=1,\n",
    "          validation_data=(X_test_resized, Y_test[:100]))"
   ]
  },
  {
   "cell_type": "code",
   "execution_count": null,
   "metadata": {
    "collapsed": false
   },
   "outputs": [],
   "source": [
    "new_model.fit(X_train_resized, Y_train[:1000], batch_size=32, \n",
    "          nb_epoch=5,verbose=1,\n",
    "          validation_data=(X_test_resized, Y_test[:100]))"
   ]
  },
  {
   "cell_type": "code",
   "execution_count": null,
   "metadata": {
    "collapsed": true
   },
   "outputs": [],
   "source": []
  }
 ],
 "metadata": {
  "kernelspec": {
   "display_name": "Python 3",
   "language": "python",
   "name": "python3"
  },
  "language_info": {
   "codemirror_mode": {
    "name": "ipython",
    "version": 3
   },
   "file_extension": ".py",
   "mimetype": "text/x-python",
   "name": "python",
   "nbconvert_exporter": "python",
   "pygments_lexer": "ipython3",
   "version": "3.5.2"
  }
 },
 "nbformat": 4,
 "nbformat_minor": 0
}
